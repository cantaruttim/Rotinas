{
  "nbformat": 4,
  "nbformat_minor": 0,
  "metadata": {
    "colab": {
      "provenance": [],
      "authorship_tag": "ABX9TyMYsNN2J3ad10oqs5IBtp8Y",
      "include_colab_link": true
    },
    "kernelspec": {
      "name": "python3",
      "display_name": "Python 3"
    },
    "language_info": {
      "name": "python"
    }
  },
  "cells": [
    {
      "cell_type": "markdown",
      "metadata": {
        "id": "view-in-github",
        "colab_type": "text"
      },
      "source": [
        "<a href=\"https://colab.research.google.com/github/cantaruttim/Rotinas/blob/main/Documenta%C3%A7%C3%A3o.ipynb\" target=\"_parent\"><img src=\"https://colab.research.google.com/assets/colab-badge.svg\" alt=\"Open In Colab\"/></a>"
      ]
    },
    {
      "cell_type": "markdown",
      "source": [
        "Python é uma linguagem de programação muito versátil e muito boa para quem quer trabalhar tanto quanto programação, frontend, backend, analista de dados, engenheiro de dados, com aprendizado de máquina e como cientista de dados.\n",
        "\n",
        "É uma linguagem interpretativa. Fácil de se entender no começo as estruturas, pois utiliza a \"fala\" como forma de montagem do script. Nessa primeira parte vamos começar com o básico. Aprendendo as operações mais simples"
      ],
      "metadata": {
        "id": "T0MfftT7eAxk"
      }
    },
    {
      "cell_type": "code",
      "source": [
        "# soma\n",
        "5 + 10"
      ],
      "metadata": {
        "colab": {
          "base_uri": "https://localhost:8080/"
        },
        "id": "SAotN09UfDSG",
        "outputId": "f624e75a-c73f-47bb-dd20-544e7b2da54b"
      },
      "execution_count": 1,
      "outputs": [
        {
          "output_type": "execute_result",
          "data": {
            "text/plain": [
              "15"
            ]
          },
          "metadata": {},
          "execution_count": 1
        }
      ]
    },
    {
      "cell_type": "code",
      "source": [
        "# subtração\n",
        "\n",
        "5 - 10"
      ],
      "metadata": {
        "colab": {
          "base_uri": "https://localhost:8080/"
        },
        "id": "KBJTE3KvfDWw",
        "outputId": "f7553ed5-7f10-4bc8-b185-bbcefb90b055"
      },
      "execution_count": 2,
      "outputs": [
        {
          "output_type": "execute_result",
          "data": {
            "text/plain": [
              "-5"
            ]
          },
          "metadata": {},
          "execution_count": 2
        }
      ]
    },
    {
      "cell_type": "code",
      "source": [
        "# divisão\n",
        "# Obs¹: quando utilizamos apenas 1 barra (/) temos como retorno um número Real\n",
        "5 / 10"
      ],
      "metadata": {
        "colab": {
          "base_uri": "https://localhost:8080/"
        },
        "id": "xy2B4kq9fDaJ",
        "outputId": "816e1d8a-38b1-4fe8-bceb-faed87ff90f7"
      },
      "execution_count": 3,
      "outputs": [
        {
          "output_type": "execute_result",
          "data": {
            "text/plain": [
              "0.5"
            ]
          },
          "metadata": {},
          "execution_count": 3
        }
      ]
    },
    {
      "cell_type": "code",
      "source": [
        "# Quando uilizamos duas barras (//) retornamos o número inteiro\n",
        "\n",
        "5 // 10"
      ],
      "metadata": {
        "colab": {
          "base_uri": "https://localhost:8080/"
        },
        "id": "tLpxfEcZfRW2",
        "outputId": "35307419-4539-4cb6-d14c-41b8e8dee8ae"
      },
      "execution_count": 4,
      "outputs": [
        {
          "output_type": "execute_result",
          "data": {
            "text/plain": [
              "0"
            ]
          },
          "metadata": {},
          "execution_count": 4
        }
      ]
    },
    {
      "cell_type": "code",
      "source": [
        "20/5 , 20 // 5"
      ],
      "metadata": {
        "colab": {
          "base_uri": "https://localhost:8080/"
        },
        "id": "WX8npaI3fgrS",
        "outputId": "7e9f7020-7041-404b-fa8f-d44b14b86b1c"
      },
      "execution_count": 5,
      "outputs": [
        {
          "output_type": "execute_result",
          "data": {
            "text/plain": [
              "(4.0, 4)"
            ]
          },
          "metadata": {},
          "execution_count": 5
        }
      ]
    },
    {
      "cell_type": "code",
      "source": [
        "# multiplicação\n",
        "\n",
        "5 * 10"
      ],
      "metadata": {
        "colab": {
          "base_uri": "https://localhost:8080/"
        },
        "id": "YX70MCaSeFr5",
        "outputId": "6c537728-04e3-405b-a160-5abad8c1da3e"
      },
      "execution_count": 6,
      "outputs": [
        {
          "output_type": "execute_result",
          "data": {
            "text/plain": [
              "50"
            ]
          },
          "metadata": {},
          "execution_count": 6
        }
      ]
    },
    {
      "cell_type": "code",
      "source": [
        "# exponenciação\n",
        "\n",
        "5 ** 2"
      ],
      "metadata": {
        "colab": {
          "base_uri": "https://localhost:8080/"
        },
        "id": "G4b6K-dTfGeL",
        "outputId": "bd630ba9-7e20-44d5-9f2b-73e3fe7deed5"
      },
      "execution_count": 7,
      "outputs": [
        {
          "output_type": "execute_result",
          "data": {
            "text/plain": [
              "25"
            ]
          },
          "metadata": {},
          "execution_count": 7
        }
      ]
    },
    {
      "cell_type": "code",
      "source": [
        "## raiz quadrada\n",
        "\n",
        ""
      ],
      "metadata": {
        "id": "4KgUTr4ZfH33"
      },
      "execution_count": 8,
      "outputs": []
    },
    {
      "cell_type": "markdown",
      "source": [
        "## **Estruturas**\n",
        "\n",
        "Porem muitas vezes os resultados que temos como retorno ao realizar as operações, e até mesmo quando precisamos manipular grandes quantidades de dados, precisamos guardar esse resultado em uma variável. O qual vai de certa forma poder assumir valores que podem ser utilizados posteriormente"
      ],
      "metadata": {
        "id": "UBBvMlPWeFj9"
      }
    },
    {
      "cell_type": "markdown",
      "source": [
        "### Variáveis"
      ],
      "metadata": {
        "id": "dd6giCxYeFoH"
      }
    },
    {
      "cell_type": "code",
      "source": [
        "soma = 10 - 5\n",
        "print(\"A soma é: \",soma)"
      ],
      "metadata": {
        "colab": {
          "base_uri": "https://localhost:8080/"
        },
        "id": "2-udWBdSeFvi",
        "outputId": "1d5d13c3-e929-4da5-9207-a576ed6d5f03"
      },
      "execution_count": 9,
      "outputs": [
        {
          "output_type": "stream",
          "name": "stdout",
          "text": [
            "A soma é:  5\n"
          ]
        }
      ]
    },
    {
      "cell_type": "code",
      "source": [
        "subtracao = 20 - 5\n",
        "print(\"A diferença é:\",subtracao)"
      ],
      "metadata": {
        "colab": {
          "base_uri": "https://localhost:8080/"
        },
        "id": "pbepvMXgeFzm",
        "outputId": "30b014ca-fdc1-4ac2-edd5-a82aae619838"
      },
      "execution_count": 10,
      "outputs": [
        {
          "output_type": "stream",
          "name": "stdout",
          "text": [
            "A diferença é: 15\n"
          ]
        }
      ]
    },
    {
      "cell_type": "code",
      "source": [
        "## Também podemos realizar operações com as variáveis\n",
        "\n",
        "soma_variaveis = soma + subtracao\n",
        "print(soma_variaveis)"
      ],
      "metadata": {
        "colab": {
          "base_uri": "https://localhost:8080/"
        },
        "id": "7a4VBHuCeF3J",
        "outputId": "4b11b241-f8de-4168-cf89-573c6ed7677d"
      },
      "execution_count": 11,
      "outputs": [
        {
          "output_type": "stream",
          "name": "stdout",
          "text": [
            "20\n"
          ]
        }
      ]
    },
    {
      "cell_type": "code",
      "source": [
        "subtracao_diferenca = soma - subtracao\n",
        "print(subtracao_diferenca)"
      ],
      "metadata": {
        "colab": {
          "base_uri": "https://localhost:8080/"
        },
        "id": "fK26rrDdgk5g",
        "outputId": "8b4a1907-282d-46d5-ad5a-8641c3105cc3"
      },
      "execution_count": 12,
      "outputs": [
        {
          "output_type": "stream",
          "name": "stdout",
          "text": [
            "-10\n"
          ]
        }
      ]
    },
    {
      "cell_type": "code",
      "source": [
        "## As variáveis podem assumir valores numéricos quanto textuais\n",
        "\n",
        "dia = \"ensolarado\"\n",
        "noite = \"fria\"\n",
        "print(\"O dia está\", dia, \"E a noite está\", noite)"
      ],
      "metadata": {
        "colab": {
          "base_uri": "https://localhost:8080/"
        },
        "id": "JglMmU_Hgk9g",
        "outputId": "00278f83-1344-45fe-9f77-c62d59a03fdc"
      },
      "execution_count": 13,
      "outputs": [
        {
          "output_type": "stream",
          "name": "stdout",
          "text": [
            "O dia está ensolarado E a noite está fria\n"
          ]
        }
      ]
    },
    {
      "cell_type": "code",
      "source": [
        "# Podemos confirmar o tipo da variável em questão por meio do camando type()\n",
        "# texto (string)           # Números inteiro           #flaot (números Reais)\n",
        "type(dia),                type(soma_variaveis)  ,      type(2 ** 0.5)"
      ],
      "metadata": {
        "colab": {
          "base_uri": "https://localhost:8080/"
        },
        "id": "EDcCUEZcglBM",
        "outputId": "26f6be05-3bd5-48bd-a25b-b8e8677f9e82"
      },
      "execution_count": 14,
      "outputs": [
        {
          "output_type": "execute_result",
          "data": {
            "text/plain": [
              "(str, int, float)"
            ]
          },
          "metadata": {},
          "execution_count": 14
        }
      ]
    },
    {
      "cell_type": "markdown",
      "source": [
        "### Inputs\n",
        "\n",
        "- funciona como uma forma de podermos inserir um valor e a linguagem processar essa informação"
      ],
      "metadata": {
        "id": "VsXzoUWhtVj-"
      }
    },
    {
      "cell_type": "code",
      "source": [
        "inteiro = input(\"Insira um número inteiro: \")\n",
        "print(\"O número digitado foi: \", inteiro, \"do tipo:\", type(inteiro))"
      ],
      "metadata": {
        "id": "faclJLfftX4x"
      },
      "execution_count": null,
      "outputs": []
    },
    {
      "cell_type": "code",
      "source": [
        "# Uaai ... mas não é número ?\n",
        "## Quando inserirmos um valor, precisamos converter esse valor para o tipo desejado\n",
        "\n",
        "inteiro = int(input(\"Insira um número inteiro: \"))\n",
        "print(\"O número digitado foi: \", inteiro, \"do tipo:\", type(inteiro))"
      ],
      "metadata": {
        "id": "YW_mSNtMtX8m"
      },
      "execution_count": null,
      "outputs": []
    },
    {
      "cell_type": "code",
      "source": [
        "decimal = float(input(\"Insira um número decimal: \"))\n",
        "print(\"O número digitado foi: \", decimal, \"do tipo:\", type(decimal))"
      ],
      "metadata": {
        "id": "WTevHIfftX__"
      },
      "execution_count": null,
      "outputs": []
    },
    {
      "cell_type": "code",
      "source": [
        "boolean = bool(input(\"Insira um texto: \"))\n",
        "print(\"O texto digitado foi: \", boolean, \"do tipo:\", type(boolean))"
      ],
      "metadata": {
        "id": "Cw5b-nWDtYDY"
      },
      "execution_count": null,
      "outputs": []
    },
    {
      "cell_type": "code",
      "source": [
        "boolean = bool(input(\"Insira um texto: \"))\n",
        "print(\"O texto digitado foi: \", boolean, \"do tipo:\", type(boolean))"
      ],
      "metadata": {
        "id": "odAxw_gxtYGh"
      },
      "execution_count": null,
      "outputs": []
    },
    {
      "cell_type": "markdown",
      "source": [
        "### Listas\n",
        "[Documentação - Listas](https://docs.python.org/3/tutorial/datastructures.html)"
      ],
      "metadata": {
        "id": "aANhWuRYglEk"
      }
    },
    {
      "cell_type": "code",
      "source": [
        "lista = [] # uma lista vazia\n",
        "type(lista)"
      ],
      "metadata": {
        "id": "zQwRG4rXh9RB"
      },
      "execution_count": null,
      "outputs": []
    },
    {
      "cell_type": "code",
      "source": [
        "lista = [0,1,2,3,4,5,6,7,8,9,10]\n",
        "lista, len(lista)"
      ],
      "metadata": {
        "id": "H2RoZ3aMjMyf"
      },
      "execution_count": null,
      "outputs": []
    },
    {
      "cell_type": "code",
      "source": [
        "# Podemos selecionar um valor específico da lista por meio dos índices\n",
        "\n",
        "lista[0], lista[1], lista[2], lista[3], lista[4], lista[5]"
      ],
      "metadata": {
        "id": "AKIoGp32jM2G"
      },
      "execution_count": null,
      "outputs": []
    },
    {
      "cell_type": "code",
      "source": [
        "lista[4:], lista[:4], lista[3:7]"
      ],
      "metadata": {
        "id": "_XMXALhSjNA8"
      },
      "execution_count": null,
      "outputs": []
    },
    {
      "cell_type": "code",
      "source": [
        "## Vamos nos atentar para os dois ultimos exemplos\n",
        "### Por que no segundo e no terceiro exemplo, o 4 e nem o 7 aparecem no resultado retornado ???\n",
        "## por que SEMPRE o último valor do retorno (slice/indexação) é exclusivo!!! Os últimos valores não entram.\n",
        "## para que isso ocorra precisamos fazer uma alteração\n",
        "\n",
        "lista[:4 + 1], lista[3:7 + 1]"
      ],
      "metadata": {
        "id": "va687LF4kKvP"
      },
      "execution_count": null,
      "outputs": []
    },
    {
      "cell_type": "code",
      "source": [
        "lista[2] * 2, lista[2] * 3"
      ],
      "metadata": {
        "id": "R3rtO3Ehk0oW"
      },
      "execution_count": null,
      "outputs": []
    },
    {
      "cell_type": "code",
      "source": [
        "lista[4:] * 2 # duplicamos o pedaço da lista"
      ],
      "metadata": {
        "id": "eUIoqY4kkKzN"
      },
      "execution_count": null,
      "outputs": []
    },
    {
      "cell_type": "code",
      "source": [
        "# podemos ler a lista de tras para frente\n",
        "\n",
        "lista[:-1]"
      ],
      "metadata": {
        "id": "3v9-5TClohM0"
      },
      "execution_count": null,
      "outputs": []
    },
    {
      "cell_type": "code",
      "source": [
        "# Podemos adicionar um novo valor a lista ([index], <valor>)\n",
        "\n",
        "lista_dois = [40, 5, 7, 6, 19, 22, 25, 30, 44, 50, 60]\n",
        "lista_dois.insert(5, 2)"
      ],
      "metadata": {
        "id": "E-rehpaBkK2x"
      },
      "execution_count": null,
      "outputs": []
    },
    {
      "cell_type": "code",
      "source": [
        "lista_dois"
      ],
      "metadata": {
        "id": "zDjXVF6al2Np"
      },
      "execution_count": null,
      "outputs": []
    },
    {
      "cell_type": "code",
      "source": [
        "# podemos retirar esse valor .remove(<valor>)\n",
        "lista_dois.remove(2)"
      ],
      "metadata": {
        "id": "vrxHtATel-SI"
      },
      "execution_count": null,
      "outputs": []
    },
    {
      "cell_type": "code",
      "source": [
        "lista_dois"
      ],
      "metadata": {
        "id": "EqJjk7Z3mLId"
      },
      "execution_count": null,
      "outputs": []
    },
    {
      "cell_type": "code",
      "source": [
        "# podemos retirar o último valor\n",
        "lista_dois.pop() # retiramos o valor 60\n",
        "lista_dois"
      ],
      "metadata": {
        "id": "NioTrtJomtnk"
      },
      "execution_count": null,
      "outputs": []
    },
    {
      "cell_type": "code",
      "source": [
        "# Podemos adicioná-lo novamente na mesma posição\n",
        "## Esse código identifica o último índice da lista, (lista_dois[len(lista_dois) - 1])\n",
        "## Posteriormente, adiciona o valor 60 nesse índice.\n",
        "\n",
        "lista_dois.insert(lista_dois[len(lista_dois) - 1], 60)\n",
        "\n",
        "## Tarraaaaaam temos a lista original novamente\n",
        "\n",
        "lista_dois"
      ],
      "metadata": {
        "id": "Xsy0JqvZmtrx"
      },
      "execution_count": null,
      "outputs": []
    },
    {
      "cell_type": "code",
      "source": [
        "## Podemos adicionar resultado de operações em uma lista\n",
        "lista_tres = []\n",
        "\n",
        "um = 2*0\n",
        "lista_tres.append(um), lista_tres"
      ],
      "metadata": {
        "id": "0IBHcoBSp7A-"
      },
      "execution_count": null,
      "outputs": []
    },
    {
      "cell_type": "code",
      "source": [
        "dois = 2*1\n",
        "lista_tres.append(dois), lista_tres"
      ],
      "metadata": {
        "id": "YuiLdT5ip7FH"
      },
      "execution_count": null,
      "outputs": []
    },
    {
      "cell_type": "code",
      "source": [
        "tres = 2*2\n",
        "lista_tres.append(tres), lista_tres"
      ],
      "metadata": {
        "id": "IkCOPqW1p7Io"
      },
      "execution_count": null,
      "outputs": []
    },
    {
      "cell_type": "markdown",
      "source": [
        "### Loop **For**\n",
        "\n",
        "-- Serve para repetir um comando `n` vezes. <br />\n",
        "Obs²: Nós sabemos a quantidade de vezes que precisamos repetir\n",
        "\n",
        "[Loop For - item 4.2 e 4.3](https://docs.python.org/pt-br/3/tutorial/controlflow.html#for-statements)"
      ],
      "metadata": {
        "id": "oSd6E7PurE8x"
      }
    },
    {
      "cell_type": "code",
      "source": [
        "# podemos adicionar os valores anteriores da seguinte maneira\n",
        "numero = [0,1,2,3,4,5,6,7,8,9,10]\n",
        "\n",
        "lista_quatro = []\n",
        "for n in numero:\n",
        "  multiplicacao = 2 * n\n",
        "  lista_quatro.append(multiplicacao)\n",
        "print(lista_quatro)"
      ],
      "metadata": {
        "id": "Z9M7J_yLrFA5"
      },
      "execution_count": null,
      "outputs": []
    },
    {
      "cell_type": "code",
      "source": [
        "# fica mais fácil de visualizar várias informações\n",
        "\n",
        "produtos = ['computador', 'notebook', 'ipad', 'iphone']\n",
        "for produto in produtos:\n",
        "  print(produto)"
      ],
      "metadata": {
        "id": "bg5l5LVv7Es-"
      },
      "execution_count": null,
      "outputs": []
    },
    {
      "cell_type": "code",
      "source": [
        "for i in range(5 + 1):\n",
        "  print(i)\n",
        "\n",
        "print('----------------')\n",
        "\n",
        "for i in range(5):\n",
        "  print(i)"
      ],
      "metadata": {
        "id": "4oRT83T87E7W"
      },
      "execution_count": null,
      "outputs": []
    },
    {
      "cell_type": "code",
      "source": [
        "list(range(0,10))"
      ],
      "metadata": {
        "id": "jdozxvrI7gf3"
      },
      "execution_count": null,
      "outputs": []
    },
    {
      "cell_type": "code",
      "source": [
        "#      Start,Stop,Step\n",
        "list(range(0,25,3))"
      ],
      "metadata": {
        "id": "3j8hjRG87gkB"
      },
      "execution_count": null,
      "outputs": []
    },
    {
      "cell_type": "code",
      "source": [
        "## E olha que interessante, podemos\n",
        "a = ['Mary', 'had', 'a', 'little', 'lamb']\n",
        "for i in range(len(a)):\n",
        "    print(i, a[i])"
      ],
      "metadata": {
        "id": "s8Z400pX7E_O"
      },
      "execution_count": null,
      "outputs": []
    },
    {
      "cell_type": "markdown",
      "source": [
        "#### Desmembrando o código\n",
        "\n",
        "\n",
        "---\n",
        "\n"
      ],
      "metadata": {
        "id": "PHXSeZpV-FbO"
      }
    },
    {
      "cell_type": "code",
      "source": [
        "range(len(a)) # começa no índice 0, e termina no índice 5 - 1 (5 é exclusivo)"
      ],
      "metadata": {
        "id": "kEqyRRNd93VK"
      },
      "execution_count": null,
      "outputs": []
    },
    {
      "cell_type": "code",
      "source": [
        "for i in range(len(a)):\n",
        "  print(i)"
      ],
      "metadata": {
        "id": "CSN7UUwD993H"
      },
      "execution_count": null,
      "outputs": []
    },
    {
      "cell_type": "code",
      "source": [
        "for i in range(len(a)):\n",
        "  print(a[i])"
      ],
      "metadata": {
        "id": "O0AY1Omg-JVT"
      },
      "execution_count": null,
      "outputs": []
    },
    {
      "cell_type": "code",
      "source": [
        "for i in range(len(a)):\n",
        "  print(i, a[i])"
      ],
      "metadata": {
        "id": "ua7viDxU-NlL"
      },
      "execution_count": null,
      "outputs": []
    },
    {
      "cell_type": "markdown",
      "source": [
        "\n",
        "\n",
        "---\n",
        "\n"
      ],
      "metadata": {
        "id": "YpMcWAx9-VSS"
      }
    },
    {
      "cell_type": "code",
      "source": [
        "for n in range(0,5):\n",
        "  for x in range(0,n):\n",
        "\n",
        "    print(n,x)"
      ],
      "metadata": {
        "id": "W2GHX_YrAi0i"
      },
      "execution_count": null,
      "outputs": []
    },
    {
      "cell_type": "markdown",
      "source": [
        "### Condicionais\n",
        "\n",
        "- Verifica se uma informação é verdadeira ou falsa. Testa condições!\n",
        "\n",
        "[Condicionais - item 4.1](https://docs.python.org/pt-br/3/tutorial/controlflow.html)"
      ],
      "metadata": {
        "id": "6xNS5JtAh9i6"
      }
    },
    {
      "cell_type": "code",
      "source": [
        "# exemplo\n",
        "\n",
        "a, b = 0, 1"
      ],
      "metadata": {
        "id": "k70IfMjbh9mj"
      },
      "execution_count": null,
      "outputs": []
    },
    {
      "cell_type": "code",
      "source": [
        "a == b"
      ],
      "metadata": {
        "id": "ZdCM2nTgjePl"
      },
      "execution_count": null,
      "outputs": []
    },
    {
      "cell_type": "code",
      "source": [
        "# podemos testar essas informações com a condição if\n",
        "\n",
        "if a == b:\n",
        "  print('Verdadeiro')\n",
        "else:\n",
        "  print('Falso')"
      ],
      "metadata": {
        "id": "xT-JkaC1jeaJ"
      },
      "execution_count": null,
      "outputs": []
    },
    {
      "cell_type": "markdown",
      "source": [
        "### Exercicio 1.\n",
        "\n",
        "---\n",
        "Write a program that prints out all the elements of the list that are less than 5.\n",
        "\n",
        "- a = [1, 1, 2, 3, 5, 8, 13, 21, 34, 55, 89]\n",
        "\n",
        "\n",
        "Extras:\n",
        "\n",
        "- Instead of printing the elements one by one, make a new list that has all the elements less than 5 from this list in it and print out this new list.\n",
        "- Write this in one line of Python.\n",
        "- Ask the user for a number and return a list that contains only elements from the original list a that are smaller than that number given by the user."
      ],
      "metadata": {
        "id": "DFW8wh7Wxh5O"
      }
    },
    {
      "cell_type": "code",
      "source": [
        "#"
      ],
      "metadata": {
        "id": "KrFKWoQN0tsT"
      },
      "execution_count": null,
      "outputs": []
    },
    {
      "cell_type": "markdown",
      "source": [
        "### Exercício 2\n",
        "\n",
        "\n",
        "---\n",
        "\n",
        "\n",
        "Crie um programa que mostre se o valor inserido é par ou ímpar"
      ],
      "metadata": {
        "id": "o5IxHqmN0tw6"
      }
    },
    {
      "cell_type": "code",
      "source": [
        "#"
      ],
      "metadata": {
        "id": "n2iDGQhZ1bDc"
      },
      "execution_count": null,
      "outputs": []
    },
    {
      "cell_type": "markdown",
      "source": [
        "### Exercício 3\n",
        "\n",
        "\n",
        "---\n",
        "\n",
        "Utilize essa lista e mostre quais os número dela são pares e quais são ímpares\n",
        "\n",
        "a = [1, 1, 2, 3, 5, 8, 13, 21, 34, 55, 89]"
      ],
      "metadata": {
        "id": "Mhv-KHpl3yF9"
      }
    },
    {
      "cell_type": "code",
      "source": [
        "#"
      ],
      "metadata": {
        "id": "XJR33B_K3yLz"
      },
      "execution_count": null,
      "outputs": []
    },
    {
      "cell_type": "markdown",
      "source": [
        "### Loop while"
      ],
      "metadata": {
        "id": "M6D20ncBh9sv"
      }
    },
    {
      "cell_type": "code",
      "source": [
        "#"
      ],
      "metadata": {
        "id": "P_J2J1KbC_Ku"
      },
      "execution_count": null,
      "outputs": []
    },
    {
      "cell_type": "markdown",
      "source": [
        "### Tuplas"
      ],
      "metadata": {
        "id": "3-Hfs4L4h9VI"
      }
    },
    {
      "cell_type": "code",
      "source": [
        "#"
      ],
      "metadata": {
        "id": "woOOG0S4jYY3"
      },
      "execution_count": null,
      "outputs": []
    }
  ]
}