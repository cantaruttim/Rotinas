{
  "nbformat": 4,
  "nbformat_minor": 0,
  "metadata": {
    "colab": {
      "provenance": [],
      "include_colab_link": true
    },
    "kernelspec": {
      "name": "python3",
      "display_name": "Python 3"
    }
  },
  "cells": [
    {
      "cell_type": "markdown",
      "metadata": {
        "id": "view-in-github",
        "colab_type": "text"
      },
      "source": [
        "<a href=\"https://colab.research.google.com/github/cantaruttim/Rotinas/blob/main/Distribui%C3%A7%C3%A3o_de_frequ%C3%AAncia.ipynb\" target=\"_parent\"><img src=\"https://colab.research.google.com/assets/colab-badge.svg\" alt=\"Open In Colab\"/></a>"
      ]
    },
    {
      "cell_type": "markdown",
      "metadata": {
        "id": "AxGScXlpOd6x"
      },
      "source": [
        "# Distribuição de frequência"
      ]
    },
    {
      "cell_type": "markdown",
      "metadata": {
        "id": "VhdSvqcE8vNK"
      },
      "source": [
        "## Importação das bibliotecas e dados originais"
      ]
    },
    {
      "cell_type": "code",
      "metadata": {
        "id": "TJigF1mqyBDN"
      },
      "source": [
        "import numpy as np\n",
        "import matplotlib.pyplot as plt\n",
        "import pandas as pd\n",
        "import seaborn as sns"
      ],
      "execution_count": 1,
      "outputs": []
    },
    {
      "cell_type": "code",
      "metadata": {
        "id": "R-6MeWTqyS7W"
      },
      "source": [
        "dados = np.array([160, 165, 167, 164, 160, 166, 160, 161, 150, 152, 173, 160, 155,\n",
        "                  164, 168, 162, 161, 168, 163, 156, 155, 169, 151, 170, 164,\n",
        "                  155, 152, 163, 160, 155, 157, 156, 158, 158, 161, 154, 161, 156, 172, 153])"
      ],
      "execution_count": 2,
      "outputs": []
    },
    {
      "cell_type": "markdown",
      "metadata": {
        "id": "C5B5jbd9O7UR"
      },
      "source": [
        "## Ordenação"
      ]
    },
    {
      "cell_type": "code",
      "metadata": {
        "id": "VVdp28LfyewS"
      },
      "source": [
        "dados = np.sort(dados)"
      ],
      "execution_count": 3,
      "outputs": []
    },
    {
      "cell_type": "code",
      "metadata": {
        "id": "ZKA8JTFPynby",
        "colab": {
          "base_uri": "https://localhost:8080/"
        },
        "outputId": "491ed6c3-4ef8-4930-e381-8cb5712e0288"
      },
      "source": [
        "dados"
      ],
      "execution_count": 4,
      "outputs": [
        {
          "output_type": "execute_result",
          "data": {
            "text/plain": [
              "array([150, 151, 152, 152, 153, 154, 155, 155, 155, 155, 156, 156, 156,\n",
              "       157, 158, 158, 160, 160, 160, 160, 160, 161, 161, 161, 161, 162,\n",
              "       163, 163, 164, 164, 164, 165, 166, 167, 168, 168, 169, 170, 172,\n",
              "       173])"
            ]
          },
          "metadata": {},
          "execution_count": 4
        }
      ]
    },
    {
      "cell_type": "code",
      "metadata": {
        "id": "0IXxiAYMysqO",
        "colab": {
          "base_uri": "https://localhost:8080/"
        },
        "outputId": "91bf73bf-6f5e-441c-8dba-e73c576b8ff1"
      },
      "source": [
        "minimo = dados.min()\n",
        "minimo"
      ],
      "execution_count": 5,
      "outputs": [
        {
          "output_type": "execute_result",
          "data": {
            "text/plain": [
              "150"
            ]
          },
          "metadata": {},
          "execution_count": 5
        }
      ]
    },
    {
      "cell_type": "code",
      "metadata": {
        "id": "9bv3fp0UyxEI",
        "colab": {
          "base_uri": "https://localhost:8080/"
        },
        "outputId": "21af7de3-e1b2-4304-bf0d-b86da99e13bf"
      },
      "source": [
        "maximo = dados.max()\n",
        "maximo"
      ],
      "execution_count": 6,
      "outputs": [
        {
          "output_type": "execute_result",
          "data": {
            "text/plain": [
              "173"
            ]
          },
          "metadata": {},
          "execution_count": 6
        }
      ]
    },
    {
      "cell_type": "code",
      "metadata": {
        "id": "lCFNpLOLy0j9",
        "colab": {
          "base_uri": "https://localhost:8080/"
        },
        "outputId": "7f4bd14c-caf1-423a-ccac-1b6dd0659a2e"
      },
      "source": [
        "np.unique(dados, return_counts=True)"
      ],
      "execution_count": 7,
      "outputs": [
        {
          "output_type": "execute_result",
          "data": {
            "text/plain": [
              "(array([150, 151, 152, 153, 154, 155, 156, 157, 158, 160, 161, 162, 163,\n",
              "        164, 165, 166, 167, 168, 169, 170, 172, 173]),\n",
              " array([1, 1, 2, 1, 1, 4, 3, 1, 2, 5, 4, 1, 2, 3, 1, 1, 1, 2, 1, 1, 1, 1]))"
            ]
          },
          "metadata": {},
          "execution_count": 7
        }
      ]
    },
    {
      "cell_type": "code",
      "metadata": {
        "id": "9N320CQhzF8e",
        "colab": {
          "base_uri": "https://localhost:8080/",
          "height": 262
        },
        "outputId": "4a7854f3-bba9-43b0-c887-3d8ff8840ed2"
      },
      "source": [
        "plt.bar(dados, dados)"
      ],
      "execution_count": 8,
      "outputs": [
        {
          "output_type": "execute_result",
          "data": {
            "text/plain": [
              "<BarContainer object of 40 artists>"
            ]
          },
          "metadata": {},
          "execution_count": 8
        },
        {
          "output_type": "display_data",
          "data": {
            "text/plain": [
              "<Figure size 640x480 with 1 Axes>"
            ],
            "image/png": "[encoded data removed]"
          },
          "metadata": {}
        }
      ]
    },
    {
      "cell_type": "markdown",
      "metadata": {
        "id": "rvAzaKbFQyXV"
      },
      "source": [
        "## Número de classes\n",
        "\n",
        "- i = 1 + 3.3 log n"
      ]
    },
    {
      "cell_type": "code",
      "metadata": {
        "id": "5SweRT-FzpQD",
        "colab": {
          "base_uri": "https://localhost:8080/"
        },
        "outputId": "18a8d213-c2e9-4d93-82ed-a15e06f084a3"
      },
      "source": [
        "n = len(dados)\n",
        "n"
      ],
      "execution_count": 9,
      "outputs": [
        {
          "output_type": "execute_result",
          "data": {
            "text/plain": [
              "40"
            ]
          },
          "metadata": {},
          "execution_count": 9
        }
      ]
    },
    {
      "cell_type": "code",
      "metadata": {
        "id": "3sOtyOK8zvre",
        "colab": {
          "base_uri": "https://localhost:8080/"
        },
        "outputId": "a02c4ba1-a160-4fbc-a73b-a0c84233ed6a"
      },
      "source": [
        "i = 1 + 3.3 * np.log10(n)\n",
        "i"
      ],
      "execution_count": 10,
      "outputs": [
        {
          "output_type": "execute_result",
          "data": {
            "text/plain": [
              "6.286797971382276"
            ]
          },
          "metadata": {},
          "execution_count": 10
        }
      ]
    },
    {
      "cell_type": "code",
      "metadata": {
        "id": "4TSnaiKnz5Ux",
        "colab": {
          "base_uri": "https://localhost:8080/"
        },
        "outputId": "7fa62986-a5b3-4dd0-f19f-fba39bd4f509"
      },
      "source": [
        "i = round(i)\n",
        "i"
      ],
      "execution_count": 11,
      "outputs": [
        {
          "output_type": "execute_result",
          "data": {
            "text/plain": [
              "6"
            ]
          },
          "metadata": {},
          "execution_count": 11
        }
      ]
    },
    {
      "cell_type": "markdown",
      "metadata": {
        "id": "a8oK6q7-RWru"
      },
      "source": [
        "## Amplitude do intervalo\n",
        "\n",
        "- h = AA / i\n",
        "- AA = Xmax - Xmin"
      ]
    },
    {
      "cell_type": "code",
      "metadata": {
        "id": "9QHPeIZu0B9m",
        "colab": {
          "base_uri": "https://localhost:8080/"
        },
        "outputId": "7e68fb64-50bb-475e-98b0-d55585989efa"
      },
      "source": [
        "AA = maximo - minimo\n",
        "AA"
      ],
      "execution_count": 12,
      "outputs": [
        {
          "output_type": "execute_result",
          "data": {
            "text/plain": [
              "23"
            ]
          },
          "metadata": {},
          "execution_count": 12
        }
      ]
    },
    {
      "cell_type": "code",
      "metadata": {
        "id": "OfaaKxsy0HpQ",
        "colab": {
          "base_uri": "https://localhost:8080/"
        },
        "outputId": "78984d9c-8023-47a4-df7d-0ab182417b70"
      },
      "source": [
        "h = AA / i\n",
        "h"
      ],
      "execution_count": 13,
      "outputs": [
        {
          "output_type": "execute_result",
          "data": {
            "text/plain": [
              "3.8333333333333335"
            ]
          },
          "metadata": {},
          "execution_count": 13
        }
      ]
    },
    {
      "cell_type": "code",
      "metadata": {
        "id": "5lb_HUqs0L-5",
        "colab": {
          "base_uri": "https://localhost:8080/"
        },
        "outputId": "b7f28990-6cd6-4763-d595-a6ce940db0b4"
      },
      "source": [
        "import math\n",
        "h = math.ceil(h)\n",
        "h"
      ],
      "execution_count": 14,
      "outputs": [
        {
          "output_type": "execute_result",
          "data": {
            "text/plain": [
              "4"
            ]
          },
          "metadata": {},
          "execution_count": 14
        }
      ]
    },
    {
      "cell_type": "markdown",
      "metadata": {
        "id": "gQYgJxLTU762"
      },
      "source": [
        "## Construção da distribuição de frequência"
      ]
    },
    {
      "cell_type": "code",
      "metadata": {
        "id": "bjZN7uwm0Wkg",
        "colab": {
          "base_uri": "https://localhost:8080/"
        },
        "outputId": "db79c39f-72a2-4c6b-83ac-fc8805a73abc"
      },
      "source": [
        "intervalos = np.arange(minimo, maximo + 2, step = h)\n",
        "intervalos"
      ],
      "execution_count": 15,
      "outputs": [
        {
          "output_type": "execute_result",
          "data": {
            "text/plain": [
              "array([150, 154, 158, 162, 166, 170, 174])"
            ]
          },
          "metadata": {},
          "execution_count": 15
        }
      ]
    },
    {
      "cell_type": "code",
      "metadata": {
        "id": "uT70Ko-a2V1H"
      },
      "source": [
        "intervalo1, intervalo2, intervalo3, intervalo4, intervalo5, intervalo6 = 0,0,0,0,0,0\n",
        "for i in range(n):\n",
        "  if dados[i] >= intervalos[0] and dados[i] < intervalos[1]:\n",
        "    intervalo1 += 1\n",
        "  elif dados[i] >= intervalos[1] and dados[i] < intervalos[2]:\n",
        "    intervalo2 += 1\n",
        "  elif dados[i] >= intervalos[2] and dados[i] < intervalos[3]:\n",
        "    intervalo3 += 1\n",
        "  elif dados[i] >= intervalos[3] and dados[i] < intervalos[4]:\n",
        "    intervalo4 += 1\n",
        "  elif dados[i] >= intervalos[4] and dados[i] < intervalos[5]:\n",
        "    intervalo5 += 1\n",
        "  elif dados[i] >= intervalos[5] and dados[i] < intervalos[6]:\n",
        "    intervalo6 += 1"
      ],
      "execution_count": 16,
      "outputs": []
    },
    {
      "cell_type": "code",
      "metadata": {
        "id": "R4iFhY7Z3uPe",
        "colab": {
          "base_uri": "https://localhost:8080/"
        },
        "outputId": "2df2265a-0ace-4481-b258-417f20f6daa3"
      },
      "source": [
        "lista_intervalos = []\n",
        "lista_intervalos.append(intervalo1)\n",
        "lista_intervalos.append(intervalo2)\n",
        "lista_intervalos.append(intervalo3)\n",
        "lista_intervalos.append(intervalo4)\n",
        "lista_intervalos.append(intervalo5)\n",
        "lista_intervalos.append(intervalo6)\n",
        "lista_intervalos"
      ],
      "execution_count": 17,
      "outputs": [
        {
          "output_type": "execute_result",
          "data": {
            "text/plain": [
              "[5, 9, 11, 7, 5, 3]"
            ]
          },
          "metadata": {},
          "execution_count": 17
        }
      ]
    },
    {
      "cell_type": "code",
      "metadata": {
        "id": "s3SlTbHw4aS3"
      },
      "source": [
        "lista_classes = []\n",
        "for i in range(len(lista_intervalos)):\n",
        "  lista_classes.append(str(intervalos[i]) + '-' + str(intervalos[i + 1]))"
      ],
      "execution_count": 18,
      "outputs": []
    },
    {
      "cell_type": "code",
      "metadata": {
        "id": "9blEQMOo4z8z",
        "colab": {
          "base_uri": "https://localhost:8080/"
        },
        "outputId": "40e8bf65-de09-4271-85d1-d526c43fc7a0"
      },
      "source": [
        "lista_classes"
      ],
      "execution_count": 19,
      "outputs": [
        {
          "output_type": "execute_result",
          "data": {
            "text/plain": [
              "['150-154', '154-158', '158-162', '162-166', '166-170', '170-174']"
            ]
          },
          "metadata": {},
          "execution_count": 19
        }
      ]
    },
    {
      "cell_type": "code",
      "metadata": {
        "id": "FUFXCOFI4_eq",
        "colab": {
          "base_uri": "https://localhost:8080/",
          "height": 263
        },
        "outputId": "9eb264bb-dcf6-4ec9-bffb-80bd71bd747d"
      },
      "source": [
        "plt.bar(lista_classes, lista_intervalos)\n",
        "plt.title('Distribuição de frequência - histograma')\n",
        "plt.xlabel('intervalos')\n",
        "plt.ylabel('valores');"
      ],
      "execution_count": 20,
      "outputs": [
        {
          "output_type": "display_data",
          "data": {
            "text/plain": [
              "<Figure size 640x480 with 1 Axes>"
            ],
            "image/png": "[encoded data removed]"
          },
          "metadata": {}
        }
      ]
    },
    {
      "cell_type": "markdown",
      "metadata": {
        "id": "vWrQIlPNdGN0"
      },
      "source": [
        "## Distribuição de frequência e histograma com numpy e matplotlib\n",
        "\n",
        "- https://numpy.org/doc/stable/reference/generated/numpy.histogram.html\n",
        "- https://numpy.org/doc/stable/reference/generated/numpy.histogram_bin_edges.html#numpy.histogram_bin_edges"
      ]
    },
    {
      "cell_type": "code",
      "metadata": {
        "id": "OfSOj3O_5o1b"
      },
      "source": [
        "dados = np.array([160, 165, 167, 164, 160, 166, 160, 161, 150, 152, 173, 160, 155,\n",
        "                  164, 168, 162, 161, 168, 163, 156, 155, 169, 151, 170, 164,\n",
        "                  155, 152, 163, 160, 155, 157, 156, 158, 158, 161, 154, 161, 156, 172, 153])"
      ],
      "execution_count": 21,
      "outputs": []
    },
    {
      "cell_type": "code",
      "metadata": {
        "id": "-UeJ-dmx6FeF"
      },
      "source": [
        "frequencia, classes = np.histogram(dados)"
      ],
      "execution_count": 22,
      "outputs": []
    },
    {
      "cell_type": "code",
      "metadata": {
        "id": "lhNtgOlw6R8j",
        "colab": {
          "base_uri": "https://localhost:8080/"
        },
        "outputId": "ac15e9df-7aa8-48c4-9c5c-f9ccc4189caa"
      },
      "source": [
        "frequencia, classes, len(classes)"
      ],
      "execution_count": 23,
      "outputs": [
        {
          "output_type": "execute_result",
          "data": {
            "text/plain": [
              "(array([4, 2, 7, 3, 9, 3, 5, 3, 2, 2]),\n",
              " array([150. , 152.3, 154.6, 156.9, 159.2, 161.5, 163.8, 166.1, 168.4,\n",
              "        170.7, 173. ]),\n",
              " 11)"
            ]
          },
          "metadata": {},
          "execution_count": 23
        }
      ]
    },
    {
      "cell_type": "code",
      "metadata": {
        "id": "4wwCwUFP63nt",
        "colab": {
          "base_uri": "https://localhost:8080/",
          "height": 252
        },
        "outputId": "150e47e5-b2cd-450c-c177-5d042291fa58"
      },
      "source": [
        "plt.hist(dados, bins = classes);"
      ],
      "execution_count": 24,
      "outputs": [
        {
          "output_type": "display_data",
          "data": {
            "text/plain": [
              "<Figure size 640x480 with 1 Axes>"
            ],
            "image/png": "[encoded data removed]"
          },
          "metadata": {}
        }
      ]
    },
    {
      "cell_type": "code",
      "metadata": {
        "id": "-pM2hrxu7Khk",
        "colab": {
          "base_uri": "https://localhost:8080/"
        },
        "outputId": "e55a8d50-d5ca-41ed-fe9a-274f444a09bb"
      },
      "source": [
        "frequencia, classes = np.histogram(dados, bins=5)\n",
        "frequencia, classes"
      ],
      "execution_count": 25,
      "outputs": [
        {
          "output_type": "execute_result",
          "data": {
            "text/plain": [
              "(array([ 6, 10, 12,  8,  4]),\n",
              " array([150. , 154.6, 159.2, 163.8, 168.4, 173. ]))"
            ]
          },
          "metadata": {},
          "execution_count": 25
        }
      ]
    },
    {
      "cell_type": "code",
      "metadata": {
        "id": "cXEw8W6G7aUX",
        "colab": {
          "base_uri": "https://localhost:8080/",
          "height": 248
        },
        "outputId": "2d67175d-30d1-4f12-b31e-aa2dd6f65efb"
      },
      "source": [
        "plt.hist(dados, classes);"
      ],
      "execution_count": 26,
      "outputs": [
        {
          "output_type": "display_data",
          "data": {
            "text/plain": [
              "<Figure size 640x480 with 1 Axes>"
            ],
            "image/png": "[encoded data removed]"
          },
          "metadata": {}
        }
      ]
    },
    {
      "cell_type": "code",
      "metadata": {
        "id": "EEbrWx0R7h3n",
        "colab": {
          "base_uri": "https://localhost:8080/"
        },
        "outputId": "bc200f3d-ba82-4600-8e1f-7ed1d528ba3d"
      },
      "source": [
        "frequencia, classes = np.histogram(dados, bins = 'sturges')\n",
        "frequencia, classes"
      ],
      "execution_count": 27,
      "outputs": [
        {
          "output_type": "execute_result",
          "data": {
            "text/plain": [
              "(array([ 5,  8,  3, 12,  5,  4,  3]),\n",
              " array([150.        , 153.28571429, 156.57142857, 159.85714286,\n",
              "        163.14285714, 166.42857143, 169.71428571, 173.        ]))"
            ]
          },
          "metadata": {},
          "execution_count": 27
        }
      ]
    },
    {
      "cell_type": "code",
      "metadata": {
        "id": "m6Q0B6sv8ZoU",
        "colab": {
          "base_uri": "https://localhost:8080/",
          "height": 248
        },
        "outputId": "fcfbcad9-7842-4935-de4b-e569f9d4bcce"
      },
      "source": [
        "plt.hist(dados, classes);"
      ],
      "execution_count": 28,
      "outputs": [
        {
          "output_type": "display_data",
          "data": {
            "text/plain": [
              "<Figure size 640x480 with 1 Axes>"
            ],
            "image/png": "[encoded data removed]"
          },
          "metadata": {}
        }
      ]
    },
    {
      "cell_type": "markdown",
      "metadata": {
        "id": "Dg4L8OxjdIEv"
      },
      "source": [
        "## Distribuição de frequência e histograma com pandas e seaborn"
      ]
    },
    {
      "cell_type": "code",
      "metadata": {
        "id": "fGA_ttEn9Hzy",
        "colab": {
          "base_uri": "https://localhost:8080/"
        },
        "outputId": "6ac38310-520b-4f8f-c261-7546ad14615d"
      },
      "source": [
        "type(dados)"
      ],
      "execution_count": 29,
      "outputs": [
        {
          "output_type": "execute_result",
          "data": {
            "text/plain": [
              "numpy.ndarray"
            ]
          },
          "metadata": {},
          "execution_count": 29
        }
      ]
    },
    {
      "cell_type": "code",
      "metadata": {
        "id": "JWdvR7gC9FTC"
      },
      "source": [
        "dataset = pd.DataFrame({'dados': dados})"
      ],
      "execution_count": 30,
      "outputs": []
    },
    {
      "cell_type": "code",
      "metadata": {
        "id": "h6jbwLJv9O-T",
        "colab": {
          "base_uri": "https://localhost:8080/",
          "height": 206
        },
        "outputId": "4170626c-50bc-4fc6-81f3-d2b2abd3edbb"
      },
      "source": [
        "dataset.head()"
      ],
      "execution_count": 31,
      "outputs": [
        {
          "output_type": "execute_result",
          "data": {
            "text/plain": [
              "   dados\n",
              "0    160\n",
              "1    165\n",
              "2    167\n",
              "3    164\n",
              "4    160"
            ],
            "text/html": [
              "\n",
              "  <div id=\"df-de301064-b606-4b79-8c4a-fa23d8fed0a2\" class=\"colab-df-container\">\n",
              "    <div>\n",
              "<style scoped>\n",
              "    .dataframe tbody tr th:only-of-type {\n",
              "        vertical-align: middle;\n",
              "    }\n",
              "\n",
              "    .dataframe tbody tr th {\n",
              "        vertical-align: top;\n",
              "    }\n",
              "\n",
              "    .dataframe thead th {\n",
              "        text-align: right;\n",
              "    }\n",
              "</style>\n",
              "<table border=\"1\" class=\"dataframe\">\n",
              "  <thead>\n",
              "    <tr style=\"text-align: right;\">\n",
              "      <th></th>\n",
              "      <th>dados</th>\n",
              "    </tr>\n",
              "  </thead>\n",
              "  <tbody>\n",
              "    <tr>\n",
              "      <th>0</th>\n",
              "      <td>160</td>\n",
              "    </tr>\n",
              "    <tr>\n",
              "      <th>1</th>\n",
              "      <td>165</td>\n",
              "    </tr>\n",
              "    <tr>\n",
              "      <th>2</th>\n",
              "      <td>167</td>\n",
              "    </tr>\n",
              "    <tr>\n",
              "      <th>3</th>\n",
              "      <td>164</td>\n",
              "    </tr>\n",
              "    <tr>\n",
              "      <th>4</th>\n",
              "      <td>160</td>\n",
              "    </tr>\n",
              "  </tbody>\n",
              "</table>\n",
              "</div>\n",
              "    <div class=\"colab-df-buttons\">\n",
              "\n",
              "  <div class=\"colab-df-container\">\n",
              "    <button class=\"colab-df-convert\" onclick=\"convertToInteractive('df-de301064-b606-4b79-8c4a-fa23d8fed0a2')\"\n",
              "            title=\"Convert this dataframe to an interactive table.\"\n",
              "            style=\"display:none;\">\n",
              "\n",
              "  <svg xmlns=\"http://www.w3.org/2000/svg\" height=\"24px\" viewBox=\"0 -960 960 960\">\n",
              "    <path d=\"M120-120v-720h720v720H120Zm60-500h600v-160H180v160Zm220 220h160v-160H400v160Zm0 220h160v-160H400v160ZM180-400h160v-160H180v160Zm440 0h160v-160H620v160ZM180-180h160v-160H180v160Zm440 0h160v-160H620v160Z\"/>\n",
              "  </svg>\n",
              "    </button>\n",
              "\n",
              "  <style>\n",
              "    .colab-df-container {\n",
              "      display:flex;\n",
              "      gap: 12px;\n",
              "    }\n",
              "\n",
              "    .colab-df-convert {\n",
              "      background-color: #E8F0FE;\n",
              "      border: none;\n",
              "      border-radius: 50%;\n",
              "      cursor: pointer;\n",
              "      display: none;\n",
              "      fill: #1967D2;\n",
              "      height: 32px;\n",
              "      padding: 0 0 0 0;\n",
              "      width: 32px;\n",
              "    }\n",
              "\n",
              "    .colab-df-convert:hover {\n",
              "      background-color: #E2EBFA;\n",
              "      box-shadow: 0px 1px 2px rgba(60, 64, 67, 0.3), 0px 1px 3px 1px rgba(60, 64, 67, 0.15);\n",
              "      fill: #174EA6;\n",
              "    }\n",
              "\n",
              "    .colab-df-buttons div {\n",
              "      margin-bottom: 4px;\n",
              "    }\n",
              "\n",
              "    [theme=dark] .colab-df-convert {\n",
              "      background-color: #3B4455;\n",
              "      fill: #D2E3FC;\n",
              "    }\n",
              "\n",
              "    [theme=dark] .colab-df-convert:hover {\n",
              "      background-color: #434B5C;\n",
              "      box-shadow: 0px 1px 3px 1px rgba(0, 0, 0, 0.15);\n",
              "      filter: drop-shadow(0px 1px 2px rgba(0, 0, 0, 0.3));\n",
              "      fill: #FFFFFF;\n",
              "    }\n",
              "  </style>\n",
              "\n",
              "    <script>\n",
              "      const buttonEl =\n",
              "        document.querySelector('#df-de301064-b606-4b79-8c4a-fa23d8fed0a2 button.colab-df-convert');\n",
              "      buttonEl.style.display =\n",
              "        google.colab.kernel.accessAllowed ? 'block' : 'none';\n",
              "\n",
              "      async function convertToInteractive(key) {\n",
              "        const element = document.querySelector('#df-de301064-b606-4b79-8c4a-fa23d8fed0a2');\n",
              "        const dataTable =\n",
              "          await google.colab.kernel.invokeFunction('convertToInteractive',\n",
              "                                                    [key], {});\n",
              "        if (!dataTable) return;\n",
              "\n",
              "        const docLinkHtml = 'Like what you see? Visit the ' +\n",
              "          '<a target=\"_blank\" href=https://colab.research.google.com/notebooks/data_table.ipynb>data table notebook</a>'\n",
              "          + ' to learn more about interactive tables.';\n",
              "        element.innerHTML = '';\n",
              "        dataTable['output_type'] = 'display_data';\n",
              "        await google.colab.output.renderOutput(dataTable, element);\n",
              "        const docLink = document.createElement('div');\n",
              "        docLink.innerHTML = docLinkHtml;\n",
              "        element.appendChild(docLink);\n",
              "      }\n",
              "    </script>\n",
              "  </div>\n",
              "\n",
              "\n",
              "<div id=\"df-19d1a3fd-d2dd-4a47-9740-fc2e5de5606a\">\n",
              "  <button class=\"colab-df-quickchart\" onclick=\"quickchart('df-19d1a3fd-d2dd-4a47-9740-fc2e5de5606a')\"\n",
              "            title=\"Suggest charts.\"\n",
              "            style=\"display:none;\">\n",
              "\n",
              "<svg xmlns=\"http://www.w3.org/2000/svg\" height=\"24px\"viewBox=\"0 0 24 24\"\n",
              "     width=\"24px\">\n",
              "    <g>\n",
              "        <path d=\"M19 3H5c-1.1 0-2 .9-2 2v14c0 1.1.9 2 2 2h14c1.1 0 2-.9 2-2V5c0-1.1-.9-2-2-2zM9 17H7v-7h2v7zm4 0h-2V7h2v10zm4 0h-2v-4h2v4z\"/>\n",
              "    </g>\n",
              "</svg>\n",
              "  </button>\n",
              "\n",
              "<style>\n",
              "  .colab-df-quickchart {\n",
              "      --bg-color: #E8F0FE;\n",
              "      --fill-color: #1967D2;\n",
              "      --hover-bg-color: #E2EBFA;\n",
              "      --hover-fill-color: #174EA6;\n",
              "      --disabled-fill-color: #AAA;\n",
              "      --disabled-bg-color: #DDD;\n",
              "  }\n",
              "\n",
              "  [theme=dark] .colab-df-quickchart {\n",
              "      --bg-color: #3B4455;\n",
              "      --fill-color: #D2E3FC;\n",
              "      --hover-bg-color: #434B5C;\n",
              "      --hover-fill-color: #FFFFFF;\n",
              "      --disabled-bg-color: #3B4455;\n",
              "      --disabled-fill-color: #666;\n",
              "  }\n",
              "\n",
              "  .colab-df-quickchart {\n",
              "    background-color: var(--bg-color);\n",
              "    border: none;\n",
              "    border-radius: 50%;\n",
              "    cursor: pointer;\n",
              "    display: none;\n",
              "    fill: var(--fill-color);\n",
              "    height: 32px;\n",
              "    padding: 0;\n",
              "    width: 32px;\n",
              "  }\n",
              "\n",
              "  .colab-df-quickchart:hover {\n",
              "    background-color: var(--hover-bg-color);\n",
              "    box-shadow: 0 1px 2px rgba(60, 64, 67, 0.3), 0 1px 3px 1px rgba(60, 64, 67, 0.15);\n",
              "    fill: var(--button-hover-fill-color);\n",
              "  }\n",
              "\n",
              "  .colab-df-quickchart-complete:disabled,\n",
              "  .colab-df-quickchart-complete:disabled:hover {\n",
              "    background-color: var(--disabled-bg-color);\n",
              "    fill: var(--disabled-fill-color);\n",
              "    box-shadow: none;\n",
              "  }\n",
              "\n",
              "  .colab-df-spinner {\n",
              "    border: 2px solid var(--fill-color);\n",
              "    border-color: transparent;\n",
              "    border-bottom-color: var(--fill-color);\n",
              "    animation:\n",
              "      spin 1s steps(1) infinite;\n",
              "  }\n",
              "\n",
              "  @keyframes spin {\n",
              "    0% {\n",
              "      border-color: transparent;\n",
              "      border-bottom-color: var(--fill-color);\n",
              "      border-left-color: var(--fill-color);\n",
              "    }\n",
              "    20% {\n",
              "      border-color: transparent;\n",
              "      border-left-color: var(--fill-color);\n",
              "      border-top-color: var(--fill-color);\n",
              "    }\n",
              "    30% {\n",
              "      border-color: transparent;\n",
              "      border-left-color: var(--fill-color);\n",
              "      border-top-color: var(--fill-color);\n",
              "      border-right-color: var(--fill-color);\n",
              "    }\n",
              "    40% {\n",
              "      border-color: transparent;\n",
              "      border-right-color: var(--fill-color);\n",
              "      border-top-color: var(--fill-color);\n",
              "    }\n",
              "    60% {\n",
              "      border-color: transparent;\n",
              "      border-right-color: var(--fill-color);\n",
              "    }\n",
              "    80% {\n",
              "      border-color: transparent;\n",
              "      border-right-color: var(--fill-color);\n",
              "      border-bottom-color: var(--fill-color);\n",
              "    }\n",
              "    90% {\n",
              "      border-color: transparent;\n",
              "      border-bottom-color: var(--fill-color);\n",
              "    }\n",
              "  }\n",
              "</style>\n",
              "\n",
              "  <script>\n",
              "    async function quickchart(key) {\n",
              "      const quickchartButtonEl =\n",
              "        document.querySelector('#' + key + ' button');\n",
              "      quickchartButtonEl.disabled = true;  // To prevent multiple clicks.\n",
              "      quickchartButtonEl.classList.add('colab-df-spinner');\n",
              "      try {\n",
              "        const charts = await google.colab.kernel.invokeFunction(\n",
              "            'suggestCharts', [key], {});\n",
              "      } catch (error) {\n",
              "        console.error('Error during call to suggestCharts:', error);\n",
              "      }\n",
              "      quickchartButtonEl.classList.remove('colab-df-spinner');\n",
              "      quickchartButtonEl.classList.add('colab-df-quickchart-complete');\n",
              "    }\n",
              "    (() => {\n",
              "      let quickchartButtonEl =\n",
              "        document.querySelector('#df-19d1a3fd-d2dd-4a47-9740-fc2e5de5606a button');\n",
              "      quickchartButtonEl.style.display =\n",
              "        google.colab.kernel.accessAllowed ? 'block' : 'none';\n",
              "    })();\n",
              "  </script>\n",
              "</div>\n",
              "    </div>\n",
              "  </div>\n"
            ]
          },
          "metadata": {},
          "execution_count": 31
        }
      ]
    },
    {
      "cell_type": "code",
      "metadata": {
        "id": "6szSIhcA9T90",
        "colab": {
          "base_uri": "https://localhost:8080/",
          "height": 244
        },
        "outputId": "900775d0-d7ba-49ca-c92b-4258b6d8779c"
      },
      "source": [
        "dataset.plot.hist();"
      ],
      "execution_count": 32,
      "outputs": [
        {
          "output_type": "display_data",
          "data": {
            "text/plain": [
              "<Figure size 640x480 with 1 Axes>"
            ],
            "image/png": "[encoded data removed]"
          },
          "metadata": {}
        }
      ]
    },
    {
      "cell_type": "code",
      "metadata": {
        "id": "t-Y6hhw29d7t",
        "colab": {
          "base_uri": "https://localhost:8080/",
          "height": 510
        },
        "outputId": "debc0c44-38c5-446f-e706-14cf004edf25"
      },
      "source": [
        "sns.distplot(dados, hist = True, kde = True);"
      ],
      "execution_count": 33,
      "outputs": [
        {
          "output_type": "stream",
          "name": "stderr",
          "text": [
            "<ipython-input-33-74f775a4c138>:1: UserWarning: \n",
            "\n",
            "`distplot` is a deprecated function and will be removed in seaborn v0.14.0.\n",
            "\n",
            "Please adapt your code to use either `displot` (a figure-level function with\n",
            "similar flexibility) or `histplot` (an axes-level function for histograms).\n",
            "\n",
            "For a guide to updating your code to use the new functions, please see\n",
            "https://gist.github.com/mwaskom/de44147ed2974457ad6372750bbe5751\n",
            "\n",
            "  sns.distplot(dados, hist = True, kde = True);\n"
          ]
        },
        {
          "output_type": "display_data",
          "data": {
            "text/plain": [
              "<Figure size 640x480 with 1 Axes>"
            ],
            "image/png": "[encoded data removed]"
          },
          "metadata": {}
        }
      ]
    },
    {
      "cell_type": "markdown",
      "metadata": {
        "id": "Mfe1fB9i8wEW"
      },
      "source": [
        "## Exercício - idade census.csv"
      ]
    },
    {
      "cell_type": "code",
      "metadata": {
        "id": "4U9cqZ6280RT"
      },
      "source": [
        "import pandas as pd\n",
        "dataset = pd.read_csv('census.csv')"
      ],
      "execution_count": null,
      "outputs": []
    },
    {
      "cell_type": "code",
      "metadata": {
        "id": "cYkZQ5yJ9PKI",
        "colab": {
          "base_uri": "https://localhost:8080/",
          "height": 351
        },
        "outputId": "e872a913-a92b-403f-e038-8dd5d9357920"
      },
      "source": [
        "dataset.head()"
      ],
      "execution_count": null,
      "outputs": [
        {
          "output_type": "execute_result",
          "data": {
            "text/html": [
              "<div>\n",
              "<style scoped>\n",
              "    .dataframe tbody tr th:only-of-type {\n",
              "        vertical-align: middle;\n",
              "    }\n",
              "\n",
              "    .dataframe tbody tr th {\n",
              "        vertical-align: top;\n",
              "    }\n",
              "\n",
              "    .dataframe thead th {\n",
              "        text-align: right;\n",
              "    }\n",
              "</style>\n",
              "<table border=\"1\" class=\"dataframe\">\n",
              "  <thead>\n",
              "    <tr style=\"text-align: right;\">\n",
              "      <th></th>\n",
              "      <th>age</th>\n",
              "      <th>workclass</th>\n",
              "      <th>final-weight</th>\n",
              "      <th>education</th>\n",
              "      <th>education-num</th>\n",
              "      <th>marital-status</th>\n",
              "      <th>occupation</th>\n",
              "      <th>relationship</th>\n",
              "      <th>race</th>\n",
              "      <th>sex</th>\n",
              "      <th>capital-gain</th>\n",
              "      <th>capital-loos</th>\n",
              "      <th>hour-per-week</th>\n",
              "      <th>native-country</th>\n",
              "      <th>income</th>\n",
              "    </tr>\n",
              "  </thead>\n",
              "  <tbody>\n",
              "    <tr>\n",
              "      <th>0</th>\n",
              "      <td>39</td>\n",
              "      <td>State-gov</td>\n",
              "      <td>77516</td>\n",
              "      <td>Bachelors</td>\n",
              "      <td>13</td>\n",
              "      <td>Never-married</td>\n",
              "      <td>Adm-clerical</td>\n",
              "      <td>Not-in-family</td>\n",
              "      <td>White</td>\n",
              "      <td>Male</td>\n",
              "      <td>2174</td>\n",
              "      <td>0</td>\n",
              "      <td>40</td>\n",
              "      <td>United-States</td>\n",
              "      <td>&lt;=50K</td>\n",
              "    </tr>\n",
              "    <tr>\n",
              "      <th>1</th>\n",
              "      <td>50</td>\n",
              "      <td>Self-emp-not-inc</td>\n",
              "      <td>83311</td>\n",
              "      <td>Bachelors</td>\n",
              "      <td>13</td>\n",
              "      <td>Married-civ-spouse</td>\n",
              "      <td>Exec-managerial</td>\n",
              "      <td>Husband</td>\n",
              "      <td>White</td>\n",
              "      <td>Male</td>\n",
              "      <td>0</td>\n",
              "      <td>0</td>\n",
              "      <td>13</td>\n",
              "      <td>United-States</td>\n",
              "      <td>&lt;=50K</td>\n",
              "    </tr>\n",
              "    <tr>\n",
              "      <th>2</th>\n",
              "      <td>38</td>\n",
              "      <td>Private</td>\n",
              "      <td>215646</td>\n",
              "      <td>HS-grad</td>\n",
              "      <td>9</td>\n",
              "      <td>Divorced</td>\n",
              "      <td>Handlers-cleaners</td>\n",
              "      <td>Not-in-family</td>\n",
              "      <td>White</td>\n",
              "      <td>Male</td>\n",
              "      <td>0</td>\n",
              "      <td>0</td>\n",
              "      <td>40</td>\n",
              "      <td>United-States</td>\n",
              "      <td>&lt;=50K</td>\n",
              "    </tr>\n",
              "    <tr>\n",
              "      <th>3</th>\n",
              "      <td>53</td>\n",
              "      <td>Private</td>\n",
              "      <td>234721</td>\n",
              "      <td>11th</td>\n",
              "      <td>7</td>\n",
              "      <td>Married-civ-spouse</td>\n",
              "      <td>Handlers-cleaners</td>\n",
              "      <td>Husband</td>\n",
              "      <td>Black</td>\n",
              "      <td>Male</td>\n",
              "      <td>0</td>\n",
              "      <td>0</td>\n",
              "      <td>40</td>\n",
              "      <td>United-States</td>\n",
              "      <td>&lt;=50K</td>\n",
              "    </tr>\n",
              "    <tr>\n",
              "      <th>4</th>\n",
              "      <td>28</td>\n",
              "      <td>Private</td>\n",
              "      <td>338409</td>\n",
              "      <td>Bachelors</td>\n",
              "      <td>13</td>\n",
              "      <td>Married-civ-spouse</td>\n",
              "      <td>Prof-specialty</td>\n",
              "      <td>Wife</td>\n",
              "      <td>Black</td>\n",
              "      <td>Female</td>\n",
              "      <td>0</td>\n",
              "      <td>0</td>\n",
              "      <td>40</td>\n",
              "      <td>Cuba</td>\n",
              "      <td>&lt;=50K</td>\n",
              "    </tr>\n",
              "  </tbody>\n",
              "</table>\n",
              "</div>"
            ],
            "text/plain": [
              "   age          workclass  final-weight  ... hour-per-week  native-country  income\n",
              "0   39          State-gov         77516  ...            40   United-States   <=50K\n",
              "1   50   Self-emp-not-inc         83311  ...            13   United-States   <=50K\n",
              "2   38            Private        215646  ...            40   United-States   <=50K\n",
              "3   53            Private        234721  ...            40   United-States   <=50K\n",
              "4   28            Private        338409  ...            40            Cuba   <=50K\n",
              "\n",
              "[5 rows x 15 columns]"
            ]
          },
          "metadata": {
            "tags": []
          },
          "execution_count": 28
        }
      ]
    },
    {
      "cell_type": "code",
      "metadata": {
        "id": "GzzRFcem9SBZ",
        "colab": {
          "base_uri": "https://localhost:8080/",
          "height": 55
        },
        "outputId": "aa0a9565-3913-4410-8106-be615dcc084d"
      },
      "source": [
        "dataset['age'].max(), dataset['age'].min()"
      ],
      "execution_count": null,
      "outputs": [
        {
          "output_type": "execute_result",
          "data": {
            "text/plain": [
              "(90, 17)"
            ]
          },
          "metadata": {
            "tags": []
          },
          "execution_count": 29
        }
      ]
    },
    {
      "cell_type": "code",
      "metadata": {
        "id": "k7Ehdyru9Yg6",
        "colab": {
          "base_uri": "https://localhost:8080/",
          "height": 285
        },
        "outputId": "e9406856-906f-4cd2-f3a4-f7a79142aa54"
      },
      "source": [
        "dataset['age'].plot.hist();"
      ],
      "execution_count": null,
      "outputs": [
        {
          "output_type": "display_data",
          "data": {
            "image/png": "[encoded data removed]",
            "text/plain": [
              "<Figure size 432x288 with 1 Axes>"
            ]
          },
          "metadata": {
            "tags": [],
            "needs_background": "light"
          }
        }
      ]
    },
    {
      "cell_type": "code",
      "metadata": {
        "id": "6Jqcr0VL91uD"
      },
      "source": [
        "dataset['age'] = pd.cut(dataset['age'], bins=[0, 17, 25, 40, 60, 90],\n",
        "                        labels=['Faixa1', \"Faixa2\", \"Faixa3\", \"Faixa4\", \"Faixa5\"])"
      ],
      "execution_count": null,
      "outputs": []
    },
    {
      "cell_type": "code",
      "metadata": {
        "id": "zlWvB_IH-WB7",
        "colab": {
          "base_uri": "https://localhost:8080/",
          "height": 351
        },
        "outputId": "4af66f61-2f38-467a-80e6-f5f84e55447e"
      },
      "source": [
        "dataset.head()"
      ],
      "execution_count": null,
      "outputs": [
        {
          "output_type": "execute_result",
          "data": {
            "text/html": [
              "<div>\n",
              "<style scoped>\n",
              "    .dataframe tbody tr th:only-of-type {\n",
              "        vertical-align: middle;\n",
              "    }\n",
              "\n",
              "    .dataframe tbody tr th {\n",
              "        vertical-align: top;\n",
              "    }\n",
              "\n",
              "    .dataframe thead th {\n",
              "        text-align: right;\n",
              "    }\n",
              "</style>\n",
              "<table border=\"1\" class=\"dataframe\">\n",
              "  <thead>\n",
              "    <tr style=\"text-align: right;\">\n",
              "      <th></th>\n",
              "      <th>age</th>\n",
              "      <th>workclass</th>\n",
              "      <th>final-weight</th>\n",
              "      <th>education</th>\n",
              "      <th>education-num</th>\n",
              "      <th>marital-status</th>\n",
              "      <th>occupation</th>\n",
              "      <th>relationship</th>\n",
              "      <th>race</th>\n",
              "      <th>sex</th>\n",
              "      <th>capital-gain</th>\n",
              "      <th>capital-loos</th>\n",
              "      <th>hour-per-week</th>\n",
              "      <th>native-country</th>\n",
              "      <th>income</th>\n",
              "    </tr>\n",
              "  </thead>\n",
              "  <tbody>\n",
              "    <tr>\n",
              "      <th>0</th>\n",
              "      <td>Faixa3</td>\n",
              "      <td>State-gov</td>\n",
              "      <td>77516</td>\n",
              "      <td>Bachelors</td>\n",
              "      <td>13</td>\n",
              "      <td>Never-married</td>\n",
              "      <td>Adm-clerical</td>\n",
              "      <td>Not-in-family</td>\n",
              "      <td>White</td>\n",
              "      <td>Male</td>\n",
              "      <td>2174</td>\n",
              "      <td>0</td>\n",
              "      <td>40</td>\n",
              "      <td>United-States</td>\n",
              "      <td>&lt;=50K</td>\n",
              "    </tr>\n",
              "    <tr>\n",
              "      <th>1</th>\n",
              "      <td>Faixa4</td>\n",
              "      <td>Self-emp-not-inc</td>\n",
              "      <td>83311</td>\n",
              "      <td>Bachelors</td>\n",
              "      <td>13</td>\n",
              "      <td>Married-civ-spouse</td>\n",
              "      <td>Exec-managerial</td>\n",
              "      <td>Husband</td>\n",
              "      <td>White</td>\n",
              "      <td>Male</td>\n",
              "      <td>0</td>\n",
              "      <td>0</td>\n",
              "      <td>13</td>\n",
              "      <td>United-States</td>\n",
              "      <td>&lt;=50K</td>\n",
              "    </tr>\n",
              "    <tr>\n",
              "      <th>2</th>\n",
              "      <td>Faixa3</td>\n",
              "      <td>Private</td>\n",
              "      <td>215646</td>\n",
              "      <td>HS-grad</td>\n",
              "      <td>9</td>\n",
              "      <td>Divorced</td>\n",
              "      <td>Handlers-cleaners</td>\n",
              "      <td>Not-in-family</td>\n",
              "      <td>White</td>\n",
              "      <td>Male</td>\n",
              "      <td>0</td>\n",
              "      <td>0</td>\n",
              "      <td>40</td>\n",
              "      <td>United-States</td>\n",
              "      <td>&lt;=50K</td>\n",
              "    </tr>\n",
              "    <tr>\n",
              "      <th>3</th>\n",
              "      <td>Faixa4</td>\n",
              "      <td>Private</td>\n",
              "      <td>234721</td>\n",
              "      <td>11th</td>\n",
              "      <td>7</td>\n",
              "      <td>Married-civ-spouse</td>\n",
              "      <td>Handlers-cleaners</td>\n",
              "      <td>Husband</td>\n",
              "      <td>Black</td>\n",
              "      <td>Male</td>\n",
              "      <td>0</td>\n",
              "      <td>0</td>\n",
              "      <td>40</td>\n",
              "      <td>United-States</td>\n",
              "      <td>&lt;=50K</td>\n",
              "    </tr>\n",
              "    <tr>\n",
              "      <th>4</th>\n",
              "      <td>Faixa3</td>\n",
              "      <td>Private</td>\n",
              "      <td>338409</td>\n",
              "      <td>Bachelors</td>\n",
              "      <td>13</td>\n",
              "      <td>Married-civ-spouse</td>\n",
              "      <td>Prof-specialty</td>\n",
              "      <td>Wife</td>\n",
              "      <td>Black</td>\n",
              "      <td>Female</td>\n",
              "      <td>0</td>\n",
              "      <td>0</td>\n",
              "      <td>40</td>\n",
              "      <td>Cuba</td>\n",
              "      <td>&lt;=50K</td>\n",
              "    </tr>\n",
              "  </tbody>\n",
              "</table>\n",
              "</div>"
            ],
            "text/plain": [
              "      age          workclass  ...  native-country  income\n",
              "0  Faixa3          State-gov  ...   United-States   <=50K\n",
              "1  Faixa4   Self-emp-not-inc  ...   United-States   <=50K\n",
              "2  Faixa3            Private  ...   United-States   <=50K\n",
              "3  Faixa4            Private  ...   United-States   <=50K\n",
              "4  Faixa3            Private  ...            Cuba   <=50K\n",
              "\n",
              "[5 rows x 15 columns]"
            ]
          },
          "metadata": {
            "tags": []
          },
          "execution_count": 32
        }
      ]
    },
    {
      "cell_type": "code",
      "metadata": {
        "id": "PuJGKi8H-tUn",
        "colab": {
          "base_uri": "https://localhost:8080/",
          "height": 72
        },
        "outputId": "c72c09a2-e0d2-4cd5-b5c1-c11723cbf0ad"
      },
      "source": [
        "dataset['age'].unique()"
      ],
      "execution_count": null,
      "outputs": [
        {
          "output_type": "execute_result",
          "data": {
            "text/plain": [
              "[Faixa3, Faixa4, Faixa2, Faixa5, Faixa1]\n",
              "Categories (5, object): [Faixa1 < Faixa2 < Faixa3 < Faixa4 < Faixa5]"
            ]
          },
          "metadata": {
            "tags": []
          },
          "execution_count": 33
        }
      ]
    },
    {
      "cell_type": "markdown",
      "metadata": {
        "id": "8VlagMi-_QqB"
      },
      "source": [
        "## Regras de associação"
      ]
    },
    {
      "cell_type": "code",
      "metadata": {
        "id": "mpTnziwjA2_x",
        "colab": {
          "base_uri": "https://localhost:8080/",
          "height": 351
        },
        "outputId": "de2df78c-4295-4301-aa5a-015c8039c8be"
      },
      "source": [
        "dataset.head()"
      ],
      "execution_count": null,
      "outputs": [
        {
          "output_type": "execute_result",
          "data": {
            "text/html": [
              "<div>\n",
              "<style scoped>\n",
              "    .dataframe tbody tr th:only-of-type {\n",
              "        vertical-align: middle;\n",
              "    }\n",
              "\n",
              "    .dataframe tbody tr th {\n",
              "        vertical-align: top;\n",
              "    }\n",
              "\n",
              "    .dataframe thead th {\n",
              "        text-align: right;\n",
              "    }\n",
              "</style>\n",
              "<table border=\"1\" class=\"dataframe\">\n",
              "  <thead>\n",
              "    <tr style=\"text-align: right;\">\n",
              "      <th></th>\n",
              "      <th>age</th>\n",
              "      <th>workclass</th>\n",
              "      <th>final-weight</th>\n",
              "      <th>education</th>\n",
              "      <th>education-num</th>\n",
              "      <th>marital-status</th>\n",
              "      <th>occupation</th>\n",
              "      <th>relationship</th>\n",
              "      <th>race</th>\n",
              "      <th>sex</th>\n",
              "      <th>capital-gain</th>\n",
              "      <th>capital-loos</th>\n",
              "      <th>hour-per-week</th>\n",
              "      <th>native-country</th>\n",
              "      <th>income</th>\n",
              "    </tr>\n",
              "  </thead>\n",
              "  <tbody>\n",
              "    <tr>\n",
              "      <th>0</th>\n",
              "      <td>Faixa3</td>\n",
              "      <td>State-gov</td>\n",
              "      <td>77516</td>\n",
              "      <td>Bachelors</td>\n",
              "      <td>13</td>\n",
              "      <td>Never-married</td>\n",
              "      <td>Adm-clerical</td>\n",
              "      <td>Not-in-family</td>\n",
              "      <td>White</td>\n",
              "      <td>Male</td>\n",
              "      <td>2174</td>\n",
              "      <td>0</td>\n",
              "      <td>40</td>\n",
              "      <td>United-States</td>\n",
              "      <td>&lt;=50K</td>\n",
              "    </tr>\n",
              "    <tr>\n",
              "      <th>1</th>\n",
              "      <td>Faixa4</td>\n",
              "      <td>Self-emp-not-inc</td>\n",
              "      <td>83311</td>\n",
              "      <td>Bachelors</td>\n",
              "      <td>13</td>\n",
              "      <td>Married-civ-spouse</td>\n",
              "      <td>Exec-managerial</td>\n",
              "      <td>Husband</td>\n",
              "      <td>White</td>\n",
              "      <td>Male</td>\n",
              "      <td>0</td>\n",
              "      <td>0</td>\n",
              "      <td>13</td>\n",
              "      <td>United-States</td>\n",
              "      <td>&lt;=50K</td>\n",
              "    </tr>\n",
              "    <tr>\n",
              "      <th>2</th>\n",
              "      <td>Faixa3</td>\n",
              "      <td>Private</td>\n",
              "      <td>215646</td>\n",
              "      <td>HS-grad</td>\n",
              "      <td>9</td>\n",
              "      <td>Divorced</td>\n",
              "      <td>Handlers-cleaners</td>\n",
              "      <td>Not-in-family</td>\n",
              "      <td>White</td>\n",
              "      <td>Male</td>\n",
              "      <td>0</td>\n",
              "      <td>0</td>\n",
              "      <td>40</td>\n",
              "      <td>United-States</td>\n",
              "      <td>&lt;=50K</td>\n",
              "    </tr>\n",
              "    <tr>\n",
              "      <th>3</th>\n",
              "      <td>Faixa4</td>\n",
              "      <td>Private</td>\n",
              "      <td>234721</td>\n",
              "      <td>11th</td>\n",
              "      <td>7</td>\n",
              "      <td>Married-civ-spouse</td>\n",
              "      <td>Handlers-cleaners</td>\n",
              "      <td>Husband</td>\n",
              "      <td>Black</td>\n",
              "      <td>Male</td>\n",
              "      <td>0</td>\n",
              "      <td>0</td>\n",
              "      <td>40</td>\n",
              "      <td>United-States</td>\n",
              "      <td>&lt;=50K</td>\n",
              "    </tr>\n",
              "    <tr>\n",
              "      <th>4</th>\n",
              "      <td>Faixa3</td>\n",
              "      <td>Private</td>\n",
              "      <td>338409</td>\n",
              "      <td>Bachelors</td>\n",
              "      <td>13</td>\n",
              "      <td>Married-civ-spouse</td>\n",
              "      <td>Prof-specialty</td>\n",
              "      <td>Wife</td>\n",
              "      <td>Black</td>\n",
              "      <td>Female</td>\n",
              "      <td>0</td>\n",
              "      <td>0</td>\n",
              "      <td>40</td>\n",
              "      <td>Cuba</td>\n",
              "      <td>&lt;=50K</td>\n",
              "    </tr>\n",
              "  </tbody>\n",
              "</table>\n",
              "</div>"
            ],
            "text/plain": [
              "      age          workclass  ...  native-country  income\n",
              "0  Faixa3          State-gov  ...   United-States   <=50K\n",
              "1  Faixa4   Self-emp-not-inc  ...   United-States   <=50K\n",
              "2  Faixa3            Private  ...   United-States   <=50K\n",
              "3  Faixa4            Private  ...   United-States   <=50K\n",
              "4  Faixa3            Private  ...            Cuba   <=50K\n",
              "\n",
              "[5 rows x 15 columns]"
            ]
          },
          "metadata": {
            "tags": []
          },
          "execution_count": 34
        }
      ]
    },
    {
      "cell_type": "code",
      "metadata": {
        "id": "me7g8m-eBMa1"
      },
      "source": [
        "dataset_apriori = dataset[['age', 'workclass', 'education', 'marital-status', 'relationship', 'occupation',\n",
        "                            'sex', 'native-country', 'income']]"
      ],
      "execution_count": null,
      "outputs": []
    },
    {
      "cell_type": "code",
      "metadata": {
        "id": "Mzqwg4IEBpO-",
        "colab": {
          "base_uri": "https://localhost:8080/",
          "height": 228
        },
        "outputId": "cabe1e47-6e6a-47d9-9da6-f89f96f4964e"
      },
      "source": [
        "dataset_apriori.head()"
      ],
      "execution_count": null,
      "outputs": [
        {
          "output_type": "execute_result",
          "data": {
            "text/html": [
              "<div>\n",
              "<style scoped>\n",
              "    .dataframe tbody tr th:only-of-type {\n",
              "        vertical-align: middle;\n",
              "    }\n",
              "\n",
              "    .dataframe tbody tr th {\n",
              "        vertical-align: top;\n",
              "    }\n",
              "\n",
              "    .dataframe thead th {\n",
              "        text-align: right;\n",
              "    }\n",
              "</style>\n",
              "<table border=\"1\" class=\"dataframe\">\n",
              "  <thead>\n",
              "    <tr style=\"text-align: right;\">\n",
              "      <th></th>\n",
              "      <th>age</th>\n",
              "      <th>workclass</th>\n",
              "      <th>education</th>\n",
              "      <th>marital-status</th>\n",
              "      <th>relationship</th>\n",
              "      <th>occupation</th>\n",
              "      <th>sex</th>\n",
              "      <th>native-country</th>\n",
              "      <th>income</th>\n",
              "    </tr>\n",
              "  </thead>\n",
              "  <tbody>\n",
              "    <tr>\n",
              "      <th>0</th>\n",
              "      <td>Faixa3</td>\n",
              "      <td>State-gov</td>\n",
              "      <td>Bachelors</td>\n",
              "      <td>Never-married</td>\n",
              "      <td>Not-in-family</td>\n",
              "      <td>Adm-clerical</td>\n",
              "      <td>Male</td>\n",
              "      <td>United-States</td>\n",
              "      <td>&lt;=50K</td>\n",
              "    </tr>\n",
              "    <tr>\n",
              "      <th>1</th>\n",
              "      <td>Faixa4</td>\n",
              "      <td>Self-emp-not-inc</td>\n",
              "      <td>Bachelors</td>\n",
              "      <td>Married-civ-spouse</td>\n",
              "      <td>Husband</td>\n",
              "      <td>Exec-managerial</td>\n",
              "      <td>Male</td>\n",
              "      <td>United-States</td>\n",
              "      <td>&lt;=50K</td>\n",
              "    </tr>\n",
              "    <tr>\n",
              "      <th>2</th>\n",
              "      <td>Faixa3</td>\n",
              "      <td>Private</td>\n",
              "      <td>HS-grad</td>\n",
              "      <td>Divorced</td>\n",
              "      <td>Not-in-family</td>\n",
              "      <td>Handlers-cleaners</td>\n",
              "      <td>Male</td>\n",
              "      <td>United-States</td>\n",
              "      <td>&lt;=50K</td>\n",
              "    </tr>\n",
              "    <tr>\n",
              "      <th>3</th>\n",
              "      <td>Faixa4</td>\n",
              "      <td>Private</td>\n",
              "      <td>11th</td>\n",
              "      <td>Married-civ-spouse</td>\n",
              "      <td>Husband</td>\n",
              "      <td>Handlers-cleaners</td>\n",
              "      <td>Male</td>\n",
              "      <td>United-States</td>\n",
              "      <td>&lt;=50K</td>\n",
              "    </tr>\n",
              "    <tr>\n",
              "      <th>4</th>\n",
              "      <td>Faixa3</td>\n",
              "      <td>Private</td>\n",
              "      <td>Bachelors</td>\n",
              "      <td>Married-civ-spouse</td>\n",
              "      <td>Wife</td>\n",
              "      <td>Prof-specialty</td>\n",
              "      <td>Female</td>\n",
              "      <td>Cuba</td>\n",
              "      <td>&lt;=50K</td>\n",
              "    </tr>\n",
              "  </tbody>\n",
              "</table>\n",
              "</div>"
            ],
            "text/plain": [
              "      age          workclass   education  ...      sex  native-country  income\n",
              "0  Faixa3          State-gov   Bachelors  ...     Male   United-States   <=50K\n",
              "1  Faixa4   Self-emp-not-inc   Bachelors  ...     Male   United-States   <=50K\n",
              "2  Faixa3            Private     HS-grad  ...     Male   United-States   <=50K\n",
              "3  Faixa4            Private        11th  ...     Male   United-States   <=50K\n",
              "4  Faixa3            Private   Bachelors  ...   Female            Cuba   <=50K\n",
              "\n",
              "[5 rows x 9 columns]"
            ]
          },
          "metadata": {
            "tags": []
          },
          "execution_count": 36
        }
      ]
    },
    {
      "cell_type": "code",
      "metadata": {
        "id": "fHTCBZ3eBtWl",
        "colab": {
          "base_uri": "https://localhost:8080/",
          "height": 55
        },
        "outputId": "1b462e02-12a0-4210-96c1-a89ba1c9f620"
      },
      "source": [
        "dataset.shape"
      ],
      "execution_count": null,
      "outputs": [
        {
          "output_type": "execute_result",
          "data": {
            "text/plain": [
              "(32561, 15)"
            ]
          },
          "metadata": {
            "tags": []
          },
          "execution_count": 37
        }
      ]
    },
    {
      "cell_type": "code",
      "metadata": {
        "id": "_SHkyv6ZBwrF",
        "colab": {
          "base_uri": "https://localhost:8080/",
          "height": 55
        },
        "outputId": "5ca28fbd-31b1-415e-fa9f-af134480e21e"
      },
      "source": [
        "dataset_apriori = dataset_apriori.sample(n = 1000)\n",
        "dataset_apriori.shape"
      ],
      "execution_count": null,
      "outputs": [
        {
          "output_type": "execute_result",
          "data": {
            "text/plain": [
              "(1000, 9)"
            ]
          },
          "metadata": {
            "tags": []
          },
          "execution_count": 38
        }
      ]
    },
    {
      "cell_type": "code",
      "metadata": {
        "id": "-W2-eg1-CFvA"
      },
      "source": [
        "transacoes = []\n",
        "for i in range(dataset_apriori.shape[0]):\n",
        "  transacoes.append([str(dataset_apriori.values[i, j]) for j in range(dataset_apriori.shape[1])])"
      ],
      "execution_count": null,
      "outputs": []
    },
    {
      "cell_type": "code",
      "metadata": {
        "id": "lHOiE4bTCho1",
        "colab": {
          "base_uri": "https://localhost:8080/",
          "height": 55
        },
        "outputId": "7989a899-9e36-477f-986b-32b5b73743b3"
      },
      "source": [
        "len(transacoes)"
      ],
      "execution_count": null,
      "outputs": [
        {
          "output_type": "execute_result",
          "data": {
            "text/plain": [
              "1000"
            ]
          },
          "metadata": {
            "tags": []
          },
          "execution_count": 40
        }
      ]
    },
    {
      "cell_type": "code",
      "metadata": {
        "id": "hmgOJBLhCjol",
        "colab": {
          "base_uri": "https://localhost:8080/",
          "height": 354
        },
        "outputId": "004a8767-713f-4b04-e322-6500dbf8ad3d"
      },
      "source": [
        "transacoes[:2]"
      ],
      "execution_count": null,
      "outputs": [
        {
          "output_type": "execute_result",
          "data": {
            "text/plain": [
              "[['Faixa3',\n",
              "  ' Private',\n",
              "  ' HS-grad',\n",
              "  ' Never-married',\n",
              "  ' Not-in-family',\n",
              "  ' Prof-specialty',\n",
              "  ' Female',\n",
              "  ' United-States',\n",
              "  ' <=50K'],\n",
              " ['Faixa2',\n",
              "  ' Self-emp-not-inc',\n",
              "  ' 7th-8th',\n",
              "  ' Married-civ-spouse',\n",
              "  ' Husband',\n",
              "  ' Transport-moving',\n",
              "  ' Male',\n",
              "  ' United-States',\n",
              "  ' >50K']]"
            ]
          },
          "metadata": {
            "tags": []
          },
          "execution_count": 41
        }
      ]
    },
    {
      "cell_type": "code",
      "metadata": {
        "id": "ueEcXdncCpyI",
        "colab": {
          "base_uri": "https://localhost:8080/",
          "height": 196
        },
        "outputId": "a89a5377-a643-470a-dc69-5bbd367a5934"
      },
      "source": [
        "!pip install apyori"
      ],
      "execution_count": null,
      "outputs": [
        {
          "output_type": "stream",
          "text": [
            "Collecting apyori\n",
            "  Downloading https://files.pythonhosted.org/packages/5e/62/5ffde5c473ea4b033490617ec5caa80d59804875ad3c3c57c0976533a21a/apyori-1.1.2.tar.gz\n",
            "Building wheels for collected packages: apyori\n",
            "  Building wheel for apyori (setup.py) ... \u001b[?25l\u001b[?25hdone\n",
            "  Created wheel for apyori: filename=apyori-1.1.2-cp36-none-any.whl size=5975 sha256=56a9d1b3e46804a3d91238858dba3f317d44bb9a4bcf7dda90aa19bcba4b6a18\n",
            "  Stored in directory: /root/.cache/pip/wheels/5d/92/bb/474bbadbc8c0062b9eb168f69982a0443263f8ab1711a8cad0\n",
            "Successfully built apyori\n",
            "Installing collected packages: apyori\n",
            "Successfully installed apyori-1.1.2\n"
          ],
          "name": "stdout"
        }
      ]
    },
    {
      "cell_type": "code",
      "metadata": {
        "id": "epVx6fb5CuvB"
      },
      "source": [
        "from apyori import apriori"
      ],
      "execution_count": null,
      "outputs": []
    },
    {
      "cell_type": "code",
      "metadata": {
        "id": "217EpL6mCzyu"
      },
      "source": [
        "regras = apriori(transacoes, min_support = 0.3, min_confidence = 0.2)\n",
        "resultados = list(regras)"
      ],
      "execution_count": null,
      "outputs": []
    },
    {
      "cell_type": "code",
      "metadata": {
        "id": "lJfgeQTeDCiL",
        "colab": {
          "base_uri": "https://localhost:8080/",
          "height": 55
        },
        "outputId": "854f3766-0e19-48f3-d909-1b1430b6cd6c"
      },
      "source": [
        "len(resultados)"
      ],
      "execution_count": null,
      "outputs": [
        {
          "output_type": "execute_result",
          "data": {
            "text/plain": [
              "36"
            ]
          },
          "metadata": {
            "tags": []
          },
          "execution_count": 45
        }
      ]
    },
    {
      "cell_type": "code",
      "metadata": {
        "id": "vY5bouIXDEwV",
        "colab": {
          "base_uri": "https://localhost:8080/",
          "height": 671
        },
        "outputId": "0b173d1d-849e-4697-cf84-0b30a633d24b"
      },
      "source": [
        "resultados"
      ],
      "execution_count": null,
      "outputs": [
        {
          "output_type": "execute_result",
          "data": {
            "text/plain": [
              "[RelationRecord(items=frozenset({' <=50K'}), support=0.763, ordered_statistics=[OrderedStatistic(items_base=frozenset(), items_add=frozenset({' <=50K'}), confidence=0.763, lift=1.0)]),\n",
              " RelationRecord(items=frozenset({' Female'}), support=0.341, ordered_statistics=[OrderedStatistic(items_base=frozenset(), items_add=frozenset({' Female'}), confidence=0.341, lift=1.0)]),\n",
              " RelationRecord(items=frozenset({' HS-grad'}), support=0.31, ordered_statistics=[OrderedStatistic(items_base=frozenset(), items_add=frozenset({' HS-grad'}), confidence=0.31, lift=1.0)]),\n",
              " RelationRecord(items=frozenset({' Husband'}), support=0.385, ordered_statistics=[OrderedStatistic(items_base=frozenset(), items_add=frozenset({' Husband'}), confidence=0.385, lift=1.0)]),\n",
              " RelationRecord(items=frozenset({' Male'}), support=0.659, ordered_statistics=[OrderedStatistic(items_base=frozenset(), items_add=frozenset({' Male'}), confidence=0.659, lift=1.0)]),\n",
              " RelationRecord(items=frozenset({' Married-civ-spouse'}), support=0.441, ordered_statistics=[OrderedStatistic(items_base=frozenset(), items_add=frozenset({' Married-civ-spouse'}), confidence=0.441, lift=1.0)]),\n",
              " RelationRecord(items=frozenset({' Never-married'}), support=0.345, ordered_statistics=[OrderedStatistic(items_base=frozenset(), items_add=frozenset({' Never-married'}), confidence=0.345, lift=1.0)]),\n",
              " RelationRecord(items=frozenset({' Private'}), support=0.668, ordered_statistics=[OrderedStatistic(items_base=frozenset(), items_add=frozenset({' Private'}), confidence=0.668, lift=1.0)]),\n",
              " RelationRecord(items=frozenset({' United-States'}), support=0.893, ordered_statistics=[OrderedStatistic(items_base=frozenset(), items_add=frozenset({' United-States'}), confidence=0.893, lift=1.0)]),\n",
              " RelationRecord(items=frozenset({'Faixa3'}), support=0.4, ordered_statistics=[OrderedStatistic(items_base=frozenset(), items_add=frozenset({'Faixa3'}), confidence=0.4, lift=1.0)]),\n",
              " RelationRecord(items=frozenset({'Faixa4'}), support=0.322, ordered_statistics=[OrderedStatistic(items_base=frozenset(), items_add=frozenset({'Faixa4'}), confidence=0.322, lift=1.0)]),\n",
              " RelationRecord(items=frozenset({' <=50K', ' Female'}), support=0.307, ordered_statistics=[OrderedStatistic(items_base=frozenset(), items_add=frozenset({' <=50K', ' Female'}), confidence=0.307, lift=1.0), OrderedStatistic(items_base=frozenset({' <=50K'}), items_add=frozenset({' Female'}), confidence=0.40235910878112713, lift=1.1799387354285251), OrderedStatistic(items_base=frozenset({' Female'}), items_add=frozenset({' <=50K'}), confidence=0.9002932551319647, lift=1.1799387354285251)]),\n",
              " RelationRecord(items=frozenset({' <=50K', ' Male'}), support=0.456, ordered_statistics=[OrderedStatistic(items_base=frozenset(), items_add=frozenset({' <=50K', ' Male'}), confidence=0.456, lift=1.0), OrderedStatistic(items_base=frozenset({' <=50K'}), items_add=frozenset({' Male'}), confidence=0.5976408912188729, lift=0.9068905784808389), OrderedStatistic(items_base=frozenset({' Male'}), items_add=frozenset({' <=50K'}), confidence=0.6919575113808801, lift=0.906890578480839)]),\n",
              " RelationRecord(items=frozenset({' <=50K', ' Never-married'}), support=0.33, ordered_statistics=[OrderedStatistic(items_base=frozenset(), items_add=frozenset({' <=50K', ' Never-married'}), confidence=0.33, lift=1.0), OrderedStatistic(items_base=frozenset({' <=50K'}), items_add=frozenset({' Never-married'}), confidence=0.4325032765399738, lift=1.2536326856231126), OrderedStatistic(items_base=frozenset({' Never-married'}), items_add=frozenset({' <=50K'}), confidence=0.9565217391304349, lift=1.2536326856231126)]),\n",
              " RelationRecord(items=frozenset({' <=50K', ' Private'}), support=0.54, ordered_statistics=[OrderedStatistic(items_base=frozenset(), items_add=frozenset({' <=50K', ' Private'}), confidence=0.54, lift=1.0), OrderedStatistic(items_base=frozenset({' <=50K'}), items_add=frozenset({' Private'}), confidence=0.7077326343381389, lift=1.05947999152416), OrderedStatistic(items_base=frozenset({' Private'}), items_add=frozenset({' <=50K'}), confidence=0.8083832335329342, lift=1.0594799915241602)]),\n",
              " RelationRecord(items=frozenset({' <=50K', ' United-States'}), support=0.679, ordered_statistics=[OrderedStatistic(items_base=frozenset(), items_add=frozenset({' <=50K', ' United-States'}), confidence=0.679, lift=1.0), OrderedStatistic(items_base=frozenset({' <=50K'}), items_add=frozenset({' United-States'}), confidence=0.8899082568807339, lift=0.9965378016581566), OrderedStatistic(items_base=frozenset({' United-States'}), items_add=frozenset({' <=50K'}), confidence=0.7603583426651737, lift=0.9965378016581569)]),\n",
              " RelationRecord(items=frozenset({' <=50K', 'Faixa3'}), support=0.309, ordered_statistics=[OrderedStatistic(items_base=frozenset(), items_add=frozenset({' <=50K', 'Faixa3'}), confidence=0.309, lift=1.0), OrderedStatistic(items_base=frozenset({' <=50K'}), items_add=frozenset({'Faixa3'}), confidence=0.40498034076015726, lift=1.0124508519003932), OrderedStatistic(items_base=frozenset({'Faixa3'}), items_add=frozenset({' <=50K'}), confidence=0.7725, lift=1.0124508519003932)]),\n",
              " RelationRecord(items=frozenset({' Male', ' Husband'}), support=0.385, ordered_statistics=[OrderedStatistic(items_base=frozenset(), items_add=frozenset({' Male', ' Husband'}), confidence=0.385, lift=1.0), OrderedStatistic(items_base=frozenset({' Husband'}), items_add=frozenset({' Male'}), confidence=1.0, lift=1.5174506828528072), OrderedStatistic(items_base=frozenset({' Male'}), items_add=frozenset({' Husband'}), confidence=0.5842185128983308, lift=1.5174506828528074)]),\n",
              " RelationRecord(items=frozenset({' Married-civ-spouse', ' Husband'}), support=0.385, ordered_statistics=[OrderedStatistic(items_base=frozenset(), items_add=frozenset({' Husband', ' Married-civ-spouse'}), confidence=0.385, lift=1.0), OrderedStatistic(items_base=frozenset({' Husband'}), items_add=frozenset({' Married-civ-spouse'}), confidence=1.0, lift=2.2675736961451247), OrderedStatistic(items_base=frozenset({' Married-civ-spouse'}), items_add=frozenset({' Husband'}), confidence=0.873015873015873, lift=2.2675736961451247)]),\n",
              " RelationRecord(items=frozenset({' United-States', ' Husband'}), support=0.346, ordered_statistics=[OrderedStatistic(items_base=frozenset(), items_add=frozenset({' United-States', ' Husband'}), confidence=0.346, lift=1.0), OrderedStatistic(items_base=frozenset({' Husband'}), items_add=frozenset({' United-States'}), confidence=0.8987012987012987, lift=1.0063844330361686), OrderedStatistic(items_base=frozenset({' United-States'}), items_add=frozenset({' Husband'}), confidence=0.38745800671892494, lift=1.0063844330361686)]),\n",
              " RelationRecord(items=frozenset({' Male', ' Married-civ-spouse'}), support=0.387, ordered_statistics=[OrderedStatistic(items_base=frozenset(), items_add=frozenset({' Male', ' Married-civ-spouse'}), confidence=0.387, lift=1.0), OrderedStatistic(items_base=frozenset({' Male'}), items_add=frozenset({' Married-civ-spouse'}), confidence=0.5872534142640364, lift=1.3316403951565452), OrderedStatistic(items_base=frozenset({' Married-civ-spouse'}), items_add=frozenset({' Male'}), confidence=0.8775510204081632, lift=1.331640395156545)]),\n",
              " RelationRecord(items=frozenset({' Male', ' Private'}), support=0.428, ordered_statistics=[OrderedStatistic(items_base=frozenset(), items_add=frozenset({' Male', ' Private'}), confidence=0.428, lift=1.0), OrderedStatistic(items_base=frozenset({' Male'}), items_add=frozenset({' Private'}), confidence=0.6494688922610015, lift=0.9722588207500021), OrderedStatistic(items_base=frozenset({' Private'}), items_add=frozenset({' Male'}), confidence=0.6407185628742514, lift=0.9722588207500021)]),\n",
              " RelationRecord(items=frozenset({' Male', ' United-States'}), support=0.595, ordered_statistics=[OrderedStatistic(items_base=frozenset(), items_add=frozenset({' Male', ' United-States'}), confidence=0.595, lift=1.0), OrderedStatistic(items_base=frozenset({' Male'}), items_add=frozenset({' United-States'}), confidence=0.9028831562974202, lift=1.0110673642748267), OrderedStatistic(items_base=frozenset({' United-States'}), items_add=frozenset({' Male'}), confidence=0.6662933930571108, lift=1.0110673642748267)]),\n",
              " RelationRecord(items=frozenset({' United-States', ' Married-civ-spouse'}), support=0.392, ordered_statistics=[OrderedStatistic(items_base=frozenset(), items_add=frozenset({' United-States', ' Married-civ-spouse'}), confidence=0.392, lift=1.0), OrderedStatistic(items_base=frozenset({' Married-civ-spouse'}), items_add=frozenset({' United-States'}), confidence=0.888888888888889, lift=0.9953962921488118), OrderedStatistic(items_base=frozenset({' United-States'}), items_add=frozenset({' Married-civ-spouse'}), confidence=0.438969764837626, lift=0.9953962921488118)]),\n",
              " RelationRecord(items=frozenset({' United-States', ' Never-married'}), support=0.31, ordered_statistics=[OrderedStatistic(items_base=frozenset(), items_add=frozenset({' Never-married', ' United-States'}), confidence=0.31, lift=1.0), OrderedStatistic(items_base=frozenset({' Never-married'}), items_add=frozenset({' United-States'}), confidence=0.8985507246376813, lift=1.0062158170634727), OrderedStatistic(items_base=frozenset({' United-States'}), items_add=frozenset({' Never-married'}), confidence=0.3471444568868981, lift=1.0062158170634727)]),\n",
              " RelationRecord(items=frozenset({' Private', ' United-States'}), support=0.588, ordered_statistics=[OrderedStatistic(items_base=frozenset(), items_add=frozenset({' Private', ' United-States'}), confidence=0.588, lift=1.0), OrderedStatistic(items_base=frozenset({' Private'}), items_add=frozenset({' United-States'}), confidence=0.8802395209580838, lift=0.9857105497850882), OrderedStatistic(items_base=frozenset({' United-States'}), items_add=frozenset({' Private'}), confidence=0.6584546472564389, lift=0.9857105497850881)]),\n",
              " RelationRecord(items=frozenset({' United-States', 'Faixa3'}), support=0.35, ordered_statistics=[OrderedStatistic(items_base=frozenset(), items_add=frozenset({' United-States', 'Faixa3'}), confidence=0.35, lift=1.0), OrderedStatistic(items_base=frozenset({' United-States'}), items_add=frozenset({'Faixa3'}), confidence=0.39193729003359457, lift=0.9798432250839864), OrderedStatistic(items_base=frozenset({'Faixa3'}), items_add=frozenset({' United-States'}), confidence=0.8749999999999999, lift=0.9798432250839865)]),\n",
              " RelationRecord(items=frozenset({' <=50K', ' Male', ' Private'}), support=0.321, ordered_statistics=[OrderedStatistic(items_base=frozenset(), items_add=frozenset({' <=50K', ' Male', ' Private'}), confidence=0.321, lift=1.0), OrderedStatistic(items_base=frozenset({' <=50K'}), items_add=frozenset({' Male', ' Private'}), confidence=0.42070773263433814, lift=0.9829619921363041), OrderedStatistic(items_base=frozenset({' Male'}), items_add=frozenset({' <=50K', ' Private'}), confidence=0.48710166919575115, lift=0.9020401281402799), OrderedStatistic(items_base=frozenset({' Private'}), items_add=frozenset({' <=50K', ' Male'}), confidence=0.4805389221556886, lift=1.053813425780019), OrderedStatistic(items_base=frozenset({' <=50K', ' Male'}), items_add=frozenset({' Private'}), confidence=0.7039473684210527, lift=1.053813425780019), OrderedStatistic(items_base=frozenset({' <=50K', ' Private'}), items_add=frozenset({' Male'}), confidence=0.5944444444444444, lift=0.9020401281402799), OrderedStatistic(items_base=frozenset({' Male', ' Private'}), items_add=frozenset({' <=50K'}), confidence=0.75, lift=0.9829619921363041)]),\n",
              " RelationRecord(items=frozenset({' <=50K', ' Male', ' United-States'}), support=0.411, ordered_statistics=[OrderedStatistic(items_base=frozenset(), items_add=frozenset({' <=50K', ' Male', ' United-States'}), confidence=0.411, lift=1.0), OrderedStatistic(items_base=frozenset({' <=50K'}), items_add=frozenset({' Male', ' United-States'}), confidence=0.5386631716906946, lift=0.9053162549423438), OrderedStatistic(items_base=frozenset({' Male'}), items_add=frozenset({' <=50K', ' United-States'}), confidence=0.6236722306525038, lift=0.9185158036119347), OrderedStatistic(items_base=frozenset({' United-States'}), items_add=frozenset({' <=50K', ' Male'}), confidence=0.4602463605823068, lift=1.0093121942594447), OrderedStatistic(items_base=frozenset({' <=50K', ' Male'}), items_add=frozenset({' United-States'}), confidence=0.9013157894736842, lift=1.0093121942594447), OrderedStatistic(items_base=frozenset({' <=50K', ' United-States'}), items_add=frozenset({' Male'}), confidence=0.605301914580265, lift=0.9185158036119347), OrderedStatistic(items_base=frozenset({' Male', ' United-States'}), items_add=frozenset({' <=50K'}), confidence=0.6907563025210084, lift=0.9053162549423439)]),\n",
              " RelationRecord(items=frozenset({' <=50K', ' Private', ' United-States'}), support=0.474, ordered_statistics=[OrderedStatistic(items_base=frozenset(), items_add=frozenset({' <=50K', ' Private', ' United-States'}), confidence=0.474, lift=1.0), OrderedStatistic(items_base=frozenset({' <=50K'}), items_add=frozenset({' Private', ' United-States'}), confidence=0.6212319790301442, lift=1.056516971139701), OrderedStatistic(items_base=frozenset({' Private'}), items_add=frozenset({' <=50K', ' United-States'}), confidence=0.7095808383233532, lift=1.0450380534953654), OrderedStatistic(items_base=frozenset({' United-States'}), items_add=frozenset({' <=50K', ' Private'}), confidence=0.5307950727883538, lift=0.9829538384969514), OrderedStatistic(items_base=frozenset({' <=50K', ' Private'}), items_add=frozenset({' United-States'}), confidence=0.8777777777777777, lift=0.9829538384969514), OrderedStatistic(items_base=frozenset({' <=50K', ' United-States'}), items_add=frozenset({' Private'}), confidence=0.6980854197349042, lift=1.0450380534953656), OrderedStatistic(items_base=frozenset({' Private', ' United-States'}), items_add=frozenset({' <=50K'}), confidence=0.8061224489795918, lift=1.0565169711397009)]),\n",
              " RelationRecord(items=frozenset({' Married-civ-spouse', ' Male', ' Husband'}), support=0.385, ordered_statistics=[OrderedStatistic(items_base=frozenset(), items_add=frozenset({' Husband', ' Male', ' Married-civ-spouse'}), confidence=0.385, lift=1.0), OrderedStatistic(items_base=frozenset({' Husband'}), items_add=frozenset({' Male', ' Married-civ-spouse'}), confidence=1.0, lift=2.5839793281653747), OrderedStatistic(items_base=frozenset({' Male'}), items_add=frozenset({' Husband', ' Married-civ-spouse'}), confidence=0.5842185128983308, lift=1.5174506828528074), OrderedStatistic(items_base=frozenset({' Married-civ-spouse'}), items_add=frozenset({' Male', ' Husband'}), confidence=0.873015873015873, lift=2.2675736961451247), OrderedStatistic(items_base=frozenset({' Male', ' Husband'}), items_add=frozenset({' Married-civ-spouse'}), confidence=1.0, lift=2.2675736961451247), OrderedStatistic(items_base=frozenset({' Married-civ-spouse', ' Husband'}), items_add=frozenset({' Male'}), confidence=1.0, lift=1.5174506828528072), OrderedStatistic(items_base=frozenset({' Male', ' Married-civ-spouse'}), items_add=frozenset({' Husband'}), confidence=0.9948320413436692, lift=2.5839793281653747)]),\n",
              " RelationRecord(items=frozenset({' Male', ' United-States', ' Husband'}), support=0.346, ordered_statistics=[OrderedStatistic(items_base=frozenset(), items_add=frozenset({' Male', ' United-States', ' Husband'}), confidence=0.346, lift=1.0), OrderedStatistic(items_base=frozenset({' Husband'}), items_add=frozenset({' Male', ' United-States'}), confidence=0.8987012987012987, lift=1.5104223507584853), OrderedStatistic(items_base=frozenset({' Male'}), items_add=frozenset({' United-States', ' Husband'}), confidence=0.5250379362670713, lift=1.5174506828528074), OrderedStatistic(items_base=frozenset({' United-States'}), items_add=frozenset({' Male', ' Husband'}), confidence=0.38745800671892494, lift=1.0063844330361686), OrderedStatistic(items_base=frozenset({' Male', ' Husband'}), items_add=frozenset({' United-States'}), confidence=0.8987012987012987, lift=1.0063844330361686), OrderedStatistic(items_base=frozenset({' United-States', ' Husband'}), items_add=frozenset({' Male'}), confidence=1.0, lift=1.5174506828528072), OrderedStatistic(items_base=frozenset({' Male', ' United-States'}), items_add=frozenset({' Husband'}), confidence=0.5815126050420167, lift=1.510422350758485)]),\n",
              " RelationRecord(items=frozenset({' Married-civ-spouse', ' United-States', ' Husband'}), support=0.346, ordered_statistics=[OrderedStatistic(items_base=frozenset(), items_add=frozenset({' Husband', ' United-States', ' Married-civ-spouse'}), confidence=0.346, lift=1.0), OrderedStatistic(items_base=frozenset({' Husband'}), items_add=frozenset({' United-States', ' Married-civ-spouse'}), confidence=0.8987012987012987, lift=2.2926053538298437), OrderedStatistic(items_base=frozenset({' Married-civ-spouse'}), items_add=frozenset({' United-States', ' Husband'}), confidence=0.7845804988662131, lift=2.2675736961451247), OrderedStatistic(items_base=frozenset({' United-States'}), items_add=frozenset({' Husband', ' Married-civ-spouse'}), confidence=0.38745800671892494, lift=1.0063844330361686), OrderedStatistic(items_base=frozenset({' Married-civ-spouse', ' Husband'}), items_add=frozenset({' United-States'}), confidence=0.8987012987012987, lift=1.0063844330361686), OrderedStatistic(items_base=frozenset({' United-States', ' Husband'}), items_add=frozenset({' Married-civ-spouse'}), confidence=1.0, lift=2.2675736961451247), OrderedStatistic(items_base=frozenset({' United-States', ' Married-civ-spouse'}), items_add=frozenset({' Husband'}), confidence=0.8826530612244897, lift=2.292605353829843)]),\n",
              " RelationRecord(items=frozenset({' Male', ' United-States', ' Married-civ-spouse'}), support=0.346, ordered_statistics=[OrderedStatistic(items_base=frozenset(), items_add=frozenset({' Male', ' United-States', ' Married-civ-spouse'}), confidence=0.346, lift=1.0), OrderedStatistic(items_base=frozenset({' Male'}), items_add=frozenset({' United-States', ' Married-civ-spouse'}), confidence=0.5250379362670713, lift=1.3393824904772227), OrderedStatistic(items_base=frozenset({' Married-civ-spouse'}), items_add=frozenset({' Male', ' United-States'}), confidence=0.7845804988662131, lift=1.3186226871701061), OrderedStatistic(items_base=frozenset({' United-States'}), items_add=frozenset({' Male', ' Married-civ-spouse'}), confidence=0.38745800671892494, lift=1.0011834798938628), OrderedStatistic(items_base=frozenset({' Male', ' Married-civ-spouse'}), items_add=frozenset({' United-States'}), confidence=0.8940568475452195, lift=1.0011834798938628), OrderedStatistic(items_base=frozenset({' Male', ' United-States'}), items_add=frozenset({' Married-civ-spouse'}), confidence=0.5815126050420167, lift=1.318622687170106), OrderedStatistic(items_base=frozenset({' United-States', ' Married-civ-spouse'}), items_add=frozenset({' Male'}), confidence=0.8826530612244897, lift=1.3393824904772227)]),\n",
              " RelationRecord(items=frozenset({' Male', ' Private', ' United-States'}), support=0.378, ordered_statistics=[OrderedStatistic(items_base=frozenset(), items_add=frozenset({' Male', ' Private', ' United-States'}), confidence=0.378, lift=1.0), OrderedStatistic(items_base=frozenset({' Male'}), items_add=frozenset({' Private', ' United-States'}), confidence=0.5735963581183612, lift=0.9755040104053763), OrderedStatistic(items_base=frozenset({' Private'}), items_add=frozenset({' Male', ' United-States'}), confidence=0.5658682634730539, lift=0.9510390982740401), OrderedStatistic(items_base=frozenset({' United-States'}), items_add=frozenset({' Male', ' Private'}), confidence=0.4232922732362822, lift=0.9890006384025286), OrderedStatistic(items_base=frozenset({' Male', ' Private'}), items_add=frozenset({' United-States'}), confidence=0.883177570093458, lift=0.9890006384025285), OrderedStatistic(items_base=frozenset({' Male', ' United-States'}), items_add=frozenset({' Private'}), confidence=0.6352941176470589, lift=0.9510390982740402), OrderedStatistic(items_base=frozenset({' Private', ' United-States'}), items_add=frozenset({' Male'}), confidence=0.6428571428571429, lift=0.9755040104053762)]),\n",
              " RelationRecord(items=frozenset({' Married-civ-spouse', ' Male', ' United-States', ' Husband'}), support=0.346, ordered_statistics=[OrderedStatistic(items_base=frozenset(), items_add=frozenset({' Married-civ-spouse', ' Male', ' United-States', ' Husband'}), confidence=0.346, lift=1.0), OrderedStatistic(items_base=frozenset({' Husband'}), items_add=frozenset({' Male', ' United-States', ' Married-civ-spouse'}), confidence=0.8987012987012987, lift=2.5974025974025974), OrderedStatistic(items_base=frozenset({' Male'}), items_add=frozenset({' Husband', ' United-States', ' Married-civ-spouse'}), confidence=0.5250379362670713, lift=1.5174506828528074), OrderedStatistic(items_base=frozenset({' Married-civ-spouse'}), items_add=frozenset({' Male', ' United-States', ' Husband'}), confidence=0.7845804988662131, lift=2.2675736961451247), OrderedStatistic(items_base=frozenset({' United-States'}), items_add=frozenset({' Husband', ' Male', ' Married-civ-spouse'}), confidence=0.38745800671892494, lift=1.0063844330361686), OrderedStatistic(items_base=frozenset({' Male', ' Husband'}), items_add=frozenset({' United-States', ' Married-civ-spouse'}), confidence=0.8987012987012987, lift=2.2926053538298437), OrderedStatistic(items_base=frozenset({' Married-civ-spouse', ' Husband'}), items_add=frozenset({' Male', ' United-States'}), confidence=0.8987012987012987, lift=1.5104223507584853), OrderedStatistic(items_base=frozenset({' United-States', ' Husband'}), items_add=frozenset({' Male', ' Married-civ-spouse'}), confidence=1.0, lift=2.5839793281653747), OrderedStatistic(items_base=frozenset({' Male', ' Married-civ-spouse'}), items_add=frozenset({' United-States', ' Husband'}), confidence=0.8940568475452195, lift=2.5839793281653747), OrderedStatistic(items_base=frozenset({' Male', ' United-States'}), items_add=frozenset({' Husband', ' Married-civ-spouse'}), confidence=0.5815126050420167, lift=1.510422350758485), OrderedStatistic(items_base=frozenset({' United-States', ' Married-civ-spouse'}), items_add=frozenset({' Male', ' Husband'}), confidence=0.8826530612244897, lift=2.292605353829843), OrderedStatistic(items_base=frozenset({' Married-civ-spouse', ' Male', ' Husband'}), items_add=frozenset({' United-States'}), confidence=0.8987012987012987, lift=1.0063844330361686), OrderedStatistic(items_base=frozenset({' Male', ' United-States', ' Husband'}), items_add=frozenset({' Married-civ-spouse'}), confidence=1.0, lift=2.2675736961451247), OrderedStatistic(items_base=frozenset({' Married-civ-spouse', ' United-States', ' Husband'}), items_add=frozenset({' Male'}), confidence=1.0, lift=1.5174506828528072), OrderedStatistic(items_base=frozenset({' Male', ' United-States', ' Married-civ-spouse'}), items_add=frozenset({' Husband'}), confidence=1.0, lift=2.5974025974025974)])]"
            ]
          },
          "metadata": {
            "tags": []
          },
          "execution_count": 46
        }
      ]
    },
    {
      "cell_type": "code",
      "metadata": {
        "id": "tTS_tzdUDl52",
        "colab": {
          "base_uri": "https://localhost:8080/",
          "height": 55
        },
        "outputId": "7b68b616-bb74-44c1-d69f-16ba3a6924d2"
      },
      "source": [
        "resultados[12]"
      ],
      "execution_count": null,
      "outputs": [
        {
          "output_type": "execute_result",
          "data": {
            "text/plain": [
              "RelationRecord(items=frozenset({' <=50K', ' Male'}), support=0.456, ordered_statistics=[OrderedStatistic(items_base=frozenset(), items_add=frozenset({' <=50K', ' Male'}), confidence=0.456, lift=1.0), OrderedStatistic(items_base=frozenset({' <=50K'}), items_add=frozenset({' Male'}), confidence=0.5976408912188729, lift=0.9068905784808389), OrderedStatistic(items_base=frozenset({' Male'}), items_add=frozenset({' <=50K'}), confidence=0.6919575113808801, lift=0.906890578480839)])"
            ]
          },
          "metadata": {
            "tags": []
          },
          "execution_count": 47
        }
      ]
    }
  ]
}